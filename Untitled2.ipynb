{
  "nbformat": 4,
  "nbformat_minor": 0,
  "metadata": {
    "colab": {
      "name": "Untitled2.ipynb",
      "provenance": [],
      "authorship_tag": "ABX9TyOIgmfSbNym0S3RhfeiSTet",
      "include_colab_link": true
    },
    "kernelspec": {
      "name": "python3",
      "display_name": "Python 3"
    },
    "language_info": {
      "name": "python"
    }
  },
  "cells": [
    {
      "cell_type": "markdown",
      "metadata": {
        "id": "view-in-github",
        "colab_type": "text"
      },
      "source": [
        "<a href=\"https://colab.research.google.com/github/SyamChaithanya/SyamChaithanya/blob/main/Untitled2.ipynb\" target=\"_parent\"><img src=\"https://colab.research.google.com/assets/colab-badge.svg\" alt=\"Open In Colab\"/></a>"
      ]
    },
    {
      "cell_type": "markdown",
      "metadata": {
        "id": "X5z8jWeYRGW9"
      },
      "source": [
        "IMPORTING LIBRARIES"
      ]
    },
    {
      "cell_type": "code",
      "metadata": {
        "id": "gy8-FoQ5RSOK"
      },
      "source": [
        "import numpy as np\n",
        "import pandas as pd\n",
        "from matplotlib import pyplot as plt\n",
        "import seaborn as sns"
      ],
      "execution_count": 1,
      "outputs": []
    },
    {
      "cell_type": "markdown",
      "metadata": {
        "id": "ZeL-P016RZaQ"
      },
      "source": [
        "UNDERSTANDING THE DATA"
      ]
    },
    {
      "cell_type": "code",
      "metadata": {
        "id": "pg0YG1uXRkZs"
      },
      "source": [
        "data=pd. read_csv(\"Literacy Data 2011.csv\")"
      ],
      "execution_count": 2,
      "outputs": []
    },
    {
      "cell_type": "code",
      "metadata": {
        "colab": {
          "base_uri": "https://localhost:8080/",
          "height": 204
        },
        "id": "70T0JPwxR1vn",
        "outputId": "3c77a391-d2b6-4251-f89f-2cbcabb16362"
      },
      "source": [
        "data.head()"
      ],
      "execution_count": 3,
      "outputs": [
        {
          "output_type": "execute_result",
          "data": {
            "text/html": [
              "<div>\n",
              "<style scoped>\n",
              "    .dataframe tbody tr th:only-of-type {\n",
              "        vertical-align: middle;\n",
              "    }\n",
              "\n",
              "    .dataframe tbody tr th {\n",
              "        vertical-align: top;\n",
              "    }\n",
              "\n",
              "    .dataframe thead th {\n",
              "        text-align: right;\n",
              "    }\n",
              "</style>\n",
              "<table border=\"1\" class=\"dataframe\">\n",
              "  <thead>\n",
              "    <tr style=\"text-align: right;\">\n",
              "      <th></th>\n",
              "      <th>Unnamed: 0</th>\n",
              "      <th>District</th>\n",
              "      <th>State</th>\n",
              "      <th>Literacy</th>\n",
              "    </tr>\n",
              "  </thead>\n",
              "  <tbody>\n",
              "    <tr>\n",
              "      <th>0</th>\n",
              "      <td>1</td>\n",
              "      <td>Thane</td>\n",
              "      <td>Maharashtra</td>\n",
              "      <td>84.53</td>\n",
              "    </tr>\n",
              "    <tr>\n",
              "      <th>1</th>\n",
              "      <td>2</td>\n",
              "      <td>North Twenty Four Parganas</td>\n",
              "      <td>West Bengal</td>\n",
              "      <td>84.06</td>\n",
              "    </tr>\n",
              "    <tr>\n",
              "      <th>2</th>\n",
              "      <td>3</td>\n",
              "      <td>Bangalore</td>\n",
              "      <td>Karnataka</td>\n",
              "      <td>87.67</td>\n",
              "    </tr>\n",
              "    <tr>\n",
              "      <th>3</th>\n",
              "      <td>4</td>\n",
              "      <td>Pune</td>\n",
              "      <td>Maharashtra</td>\n",
              "      <td>86.15</td>\n",
              "    </tr>\n",
              "    <tr>\n",
              "      <th>4</th>\n",
              "      <td>5</td>\n",
              "      <td>Mumbai Suburban</td>\n",
              "      <td>Maharashtra</td>\n",
              "      <td>89.91</td>\n",
              "    </tr>\n",
              "  </tbody>\n",
              "</table>\n",
              "</div>"
            ],
            "text/plain": [
              "   Unnamed: 0                     District         State  Literacy\n",
              "0           1                        Thane   Maharashtra     84.53\n",
              "1           2   North Twenty Four Parganas   West Bengal     84.06\n",
              "2           3                    Bangalore     Karnataka     87.67\n",
              "3           4                         Pune   Maharashtra     86.15\n",
              "4           5              Mumbai Suburban   Maharashtra     89.91"
            ]
          },
          "metadata": {},
          "execution_count": 3
        }
      ]
    },
    {
      "cell_type": "code",
      "metadata": {
        "colab": {
          "base_uri": "https://localhost:8080/",
          "height": 204
        },
        "id": "Wynomd-PR8Fm",
        "outputId": "dba31e6d-16e3-4ada-afe9-75ab0eb4b92f"
      },
      "source": [
        "data.tail()"
      ],
      "execution_count": 4,
      "outputs": [
        {
          "output_type": "execute_result",
          "data": {
            "text/html": [
              "<div>\n",
              "<style scoped>\n",
              "    .dataframe tbody tr th:only-of-type {\n",
              "        vertical-align: middle;\n",
              "    }\n",
              "\n",
              "    .dataframe tbody tr th {\n",
              "        vertical-align: top;\n",
              "    }\n",
              "\n",
              "    .dataframe thead th {\n",
              "        text-align: right;\n",
              "    }\n",
              "</style>\n",
              "<table border=\"1\" class=\"dataframe\">\n",
              "  <thead>\n",
              "    <tr style=\"text-align: right;\">\n",
              "      <th></th>\n",
              "      <th>Unnamed: 0</th>\n",
              "      <th>District</th>\n",
              "      <th>State</th>\n",
              "      <th>Literacy</th>\n",
              "    </tr>\n",
              "  </thead>\n",
              "  <tbody>\n",
              "    <tr>\n",
              "      <th>635</th>\n",
              "      <td>636</td>\n",
              "      <td>Nicobars</td>\n",
              "      <td>Andaman And Nicobar Islands</td>\n",
              "      <td>78.06</td>\n",
              "    </tr>\n",
              "    <tr>\n",
              "      <th>636</th>\n",
              "      <td>637</td>\n",
              "      <td>Upper Siang</td>\n",
              "      <td>Arunachal Pradesh</td>\n",
              "      <td>59.99</td>\n",
              "    </tr>\n",
              "    <tr>\n",
              "      <th>637</th>\n",
              "      <td>638</td>\n",
              "      <td>Lahul and Spiti</td>\n",
              "      <td>Himachal Pradesh</td>\n",
              "      <td>76.81</td>\n",
              "    </tr>\n",
              "    <tr>\n",
              "      <th>638</th>\n",
              "      <td>639</td>\n",
              "      <td>Anjaw</td>\n",
              "      <td>Arunachal Pradesh</td>\n",
              "      <td>56.46</td>\n",
              "    </tr>\n",
              "    <tr>\n",
              "      <th>639</th>\n",
              "      <td>640</td>\n",
              "      <td>Dibang Valley</td>\n",
              "      <td>Arunachal Pradesh</td>\n",
              "      <td>64.10</td>\n",
              "    </tr>\n",
              "  </tbody>\n",
              "</table>\n",
              "</div>"
            ],
            "text/plain": [
              "     Unnamed: 0          District                         State  Literacy\n",
              "635         636          Nicobars   Andaman And Nicobar Islands     78.06\n",
              "636         637       Upper Siang             Arunachal Pradesh     59.99\n",
              "637         638   Lahul and Spiti              Himachal Pradesh     76.81\n",
              "638         639             Anjaw             Arunachal Pradesh     56.46\n",
              "639         640     Dibang Valley             Arunachal Pradesh     64.10"
            ]
          },
          "metadata": {},
          "execution_count": 4
        }
      ]
    },
    {
      "cell_type": "code",
      "metadata": {
        "colab": {
          "base_uri": "https://localhost:8080/"
        },
        "id": "4CDeecsFSHSI",
        "outputId": "79e9d5d9-5c8b-4351-ecb6-69c698735526"
      },
      "source": [
        "data.shape"
      ],
      "execution_count": 5,
      "outputs": [
        {
          "output_type": "execute_result",
          "data": {
            "text/plain": [
              "(640, 4)"
            ]
          },
          "metadata": {},
          "execution_count": 5
        }
      ]
    },
    {
      "cell_type": "code",
      "metadata": {
        "colab": {
          "base_uri": "https://localhost:8080/",
          "height": 298
        },
        "id": "bzROxhIdSKi_",
        "outputId": "56ded7b3-418e-40f2-88bf-a5bfed8c2856"
      },
      "source": [
        "data.describe()"
      ],
      "execution_count": 6,
      "outputs": [
        {
          "output_type": "execute_result",
          "data": {
            "text/html": [
              "<div>\n",
              "<style scoped>\n",
              "    .dataframe tbody tr th:only-of-type {\n",
              "        vertical-align: middle;\n",
              "    }\n",
              "\n",
              "    .dataframe tbody tr th {\n",
              "        vertical-align: top;\n",
              "    }\n",
              "\n",
              "    .dataframe thead th {\n",
              "        text-align: right;\n",
              "    }\n",
              "</style>\n",
              "<table border=\"1\" class=\"dataframe\">\n",
              "  <thead>\n",
              "    <tr style=\"text-align: right;\">\n",
              "      <th></th>\n",
              "      <th>Unnamed: 0</th>\n",
              "      <th>Literacy</th>\n",
              "    </tr>\n",
              "  </thead>\n",
              "  <tbody>\n",
              "    <tr>\n",
              "      <th>count</th>\n",
              "      <td>640.000000</td>\n",
              "      <td>640.000000</td>\n",
              "    </tr>\n",
              "    <tr>\n",
              "      <th>mean</th>\n",
              "      <td>320.500000</td>\n",
              "      <td>72.308422</td>\n",
              "    </tr>\n",
              "    <tr>\n",
              "      <th>std</th>\n",
              "      <td>184.896367</td>\n",
              "      <td>10.488816</td>\n",
              "    </tr>\n",
              "    <tr>\n",
              "      <th>min</th>\n",
              "      <td>1.000000</td>\n",
              "      <td>36.100000</td>\n",
              "    </tr>\n",
              "    <tr>\n",
              "      <th>25%</th>\n",
              "      <td>160.750000</td>\n",
              "      <td>65.095000</td>\n",
              "    </tr>\n",
              "    <tr>\n",
              "      <th>50%</th>\n",
              "      <td>320.500000</td>\n",
              "      <td>72.170000</td>\n",
              "    </tr>\n",
              "    <tr>\n",
              "      <th>75%</th>\n",
              "      <td>480.250000</td>\n",
              "      <td>79.962500</td>\n",
              "    </tr>\n",
              "    <tr>\n",
              "      <th>max</th>\n",
              "      <td>640.000000</td>\n",
              "      <td>97.910000</td>\n",
              "    </tr>\n",
              "  </tbody>\n",
              "</table>\n",
              "</div>"
            ],
            "text/plain": [
              "       Unnamed: 0    Literacy\n",
              "count  640.000000  640.000000\n",
              "mean   320.500000   72.308422\n",
              "std    184.896367   10.488816\n",
              "min      1.000000   36.100000\n",
              "25%    160.750000   65.095000\n",
              "50%    320.500000   72.170000\n",
              "75%    480.250000   79.962500\n",
              "max    640.000000   97.910000"
            ]
          },
          "metadata": {},
          "execution_count": 6
        }
      ]
    },
    {
      "cell_type": "code",
      "metadata": {
        "colab": {
          "base_uri": "https://localhost:8080/"
        },
        "id": "2AhGluKZSVRm",
        "outputId": "b853ab40-695f-485e-8ad0-aed99001a70c"
      },
      "source": [
        "data.info()"
      ],
      "execution_count": 7,
      "outputs": [
        {
          "output_type": "stream",
          "name": "stdout",
          "text": [
            "<class 'pandas.core.frame.DataFrame'>\n",
            "RangeIndex: 640 entries, 0 to 639\n",
            "Data columns (total 4 columns):\n",
            " #   Column      Non-Null Count  Dtype  \n",
            "---  ------      --------------  -----  \n",
            " 0   Unnamed: 0  640 non-null    int64  \n",
            " 1   District    640 non-null    object \n",
            " 2   State       640 non-null    object \n",
            " 3   Literacy    640 non-null    float64\n",
            "dtypes: float64(1), int64(1), object(2)\n",
            "memory usage: 20.1+ KB\n"
          ]
        }
      ]
    },
    {
      "cell_type": "code",
      "metadata": {
        "colab": {
          "base_uri": "https://localhost:8080/"
        },
        "id": "4pzbSOEKSZzt",
        "outputId": "1b4d0289-4500-4822-d0fa-a834937c4dcf"
      },
      "source": [
        "data['State'].value_counts()"
      ],
      "execution_count": 8,
      "outputs": [
        {
          "output_type": "execute_result",
          "data": {
            "text/plain": [
              " Uttar Pradesh                  71\n",
              " Madhya Pradesh                 50\n",
              " Bihar                          38\n",
              " Maharashtra                    35\n",
              " Rajasthan                      33\n",
              " Tamil Nadu                     32\n",
              " Karnataka                      30\n",
              " Orissa                         30\n",
              " Assam                          27\n",
              " Gujarat                        26\n",
              " Jharkhand                      24\n",
              " Andhra Pradesh                 23\n",
              " Jammu and Kashmir              22\n",
              " Haryana                        21\n",
              " Punjab                         20\n",
              " West Bengal                    19\n",
              " Chhattisgarh                   18\n",
              " Arunachal Pradesh              16\n",
              " Kerala                         14\n",
              " Uttarakhand                    13\n",
              " Himachal Pradesh               12\n",
              " Nagaland                       11\n",
              " Manipur                         9\n",
              " Delhi                           9\n",
              " Mizoram                         8\n",
              " Meghalaya                       7\n",
              " Puducherry                      4\n",
              " Tripura                         4\n",
              " Sikkim                          4\n",
              " Andaman And Nicobar Islands     3\n",
              " Daman and Diu                   2\n",
              " Goa                             2\n",
              " Lakshadweep                     1\n",
              " Chandigarh                      1\n",
              " Dadra and Nagar Haveli          1\n",
              "Name: State, dtype: int64"
            ]
          },
          "metadata": {},
          "execution_count": 8
        }
      ]
    },
    {
      "cell_type": "code",
      "metadata": {
        "colab": {
          "base_uri": "https://localhost:8080/"
        },
        "id": "SAtO9qDNSlrt",
        "outputId": "bd417a52-a239-4ed3-da34-38cecdae78db"
      },
      "source": [
        "data[\"State\"].value_counts()[0:10]"
      ],
      "execution_count": 9,
      "outputs": [
        {
          "output_type": "execute_result",
          "data": {
            "text/plain": [
              " Uttar Pradesh     71\n",
              " Madhya Pradesh    50\n",
              " Bihar             38\n",
              " Maharashtra       35\n",
              " Rajasthan         33\n",
              " Tamil Nadu        32\n",
              " Karnataka         30\n",
              " Orissa            30\n",
              " Assam             27\n",
              " Gujarat           26\n",
              "Name: State, dtype: int64"
            ]
          },
          "metadata": {},
          "execution_count": 9
        }
      ]
    },
    {
      "cell_type": "code",
      "metadata": {
        "colab": {
          "base_uri": "https://localhost:8080/",
          "height": 420
        },
        "id": "rWQsTpyYSqc8",
        "outputId": "bfd3580a-7e7b-407c-bbfa-e29e2013d1eb"
      },
      "source": [
        "data=data.sort_values(by=['Literacy'],ascending=False)\n",
        "data"
      ],
      "execution_count": 10,
      "outputs": [
        {
          "output_type": "execute_result",
          "data": {
            "text/html": [
              "<div>\n",
              "<style scoped>\n",
              "    .dataframe tbody tr th:only-of-type {\n",
              "        vertical-align: middle;\n",
              "    }\n",
              "\n",
              "    .dataframe tbody tr th {\n",
              "        vertical-align: top;\n",
              "    }\n",
              "\n",
              "    .dataframe thead th {\n",
              "        text-align: right;\n",
              "    }\n",
              "</style>\n",
              "<table border=\"1\" class=\"dataframe\">\n",
              "  <thead>\n",
              "    <tr style=\"text-align: right;\">\n",
              "      <th></th>\n",
              "      <th>Unnamed: 0</th>\n",
              "      <th>District</th>\n",
              "      <th>State</th>\n",
              "      <th>Literacy</th>\n",
              "    </tr>\n",
              "  </thead>\n",
              "  <tbody>\n",
              "    <tr>\n",
              "      <th>625</th>\n",
              "      <td>626</td>\n",
              "      <td>Serchhip</td>\n",
              "      <td>Mizoram</td>\n",
              "      <td>97.91</td>\n",
              "    </tr>\n",
              "    <tr>\n",
              "      <th>557</th>\n",
              "      <td>558</td>\n",
              "      <td>Aizawl</td>\n",
              "      <td>Mizoram</td>\n",
              "      <td>97.89</td>\n",
              "    </tr>\n",
              "    <tr>\n",
              "      <th>634</th>\n",
              "      <td>635</td>\n",
              "      <td>Mahe</td>\n",
              "      <td>Puducherry</td>\n",
              "      <td>97.87</td>\n",
              "    </tr>\n",
              "    <tr>\n",
              "      <th>233</th>\n",
              "      <td>234</td>\n",
              "      <td>Kottayam</td>\n",
              "      <td>Kerala</td>\n",
              "      <td>97.21</td>\n",
              "    </tr>\n",
              "    <tr>\n",
              "      <th>397</th>\n",
              "      <td>398</td>\n",
              "      <td>Pathanamthitta</td>\n",
              "      <td>Kerala</td>\n",
              "      <td>96.55</td>\n",
              "    </tr>\n",
              "    <tr>\n",
              "      <th>...</th>\n",
              "      <td>...</td>\n",
              "      <td>...</td>\n",
              "      <td>...</td>\n",
              "      <td>...</td>\n",
              "    </tr>\n",
              "    <tr>\n",
              "      <th>391</th>\n",
              "      <td>392</td>\n",
              "      <td>Nabarangapur</td>\n",
              "      <td>Orissa</td>\n",
              "      <td>46.43</td>\n",
              "    </tr>\n",
              "    <tr>\n",
              "      <th>439</th>\n",
              "      <td>440</td>\n",
              "      <td>Jhabua</td>\n",
              "      <td>Madhya Pradesh</td>\n",
              "      <td>43.30</td>\n",
              "    </tr>\n",
              "    <tr>\n",
              "      <th>539</th>\n",
              "      <td>540</td>\n",
              "      <td>Dantewada</td>\n",
              "      <td>Chhattisgarh</td>\n",
              "      <td>42.12</td>\n",
              "    </tr>\n",
              "    <tr>\n",
              "      <th>580</th>\n",
              "      <td>581</td>\n",
              "      <td>Bijapur</td>\n",
              "      <td>Chhattisgarh</td>\n",
              "      <td>40.86</td>\n",
              "    </tr>\n",
              "    <tr>\n",
              "      <th>497</th>\n",
              "      <td>498</td>\n",
              "      <td>Alirajpur</td>\n",
              "      <td>Madhya Pradesh</td>\n",
              "      <td>36.10</td>\n",
              "    </tr>\n",
              "  </tbody>\n",
              "</table>\n",
              "<p>640 rows × 4 columns</p>\n",
              "</div>"
            ],
            "text/plain": [
              "     Unnamed: 0         District            State  Literacy\n",
              "625         626         Serchhip          Mizoram     97.91\n",
              "557         558           Aizawl          Mizoram     97.89\n",
              "634         635             Mahe       Puducherry     97.87\n",
              "233         234         Kottayam           Kerala     97.21\n",
              "397         398   Pathanamthitta           Kerala     96.55\n",
              "..          ...              ...              ...       ...\n",
              "391         392     Nabarangapur           Orissa     46.43\n",
              "439         440           Jhabua   Madhya Pradesh     43.30\n",
              "539         540        Dantewada     Chhattisgarh     42.12\n",
              "580         581          Bijapur     Chhattisgarh     40.86\n",
              "497         498        Alirajpur   Madhya Pradesh     36.10\n",
              "\n",
              "[640 rows x 4 columns]"
            ]
          },
          "metadata": {},
          "execution_count": 10
        }
      ]
    },
    {
      "cell_type": "code",
      "metadata": {
        "colab": {
          "base_uri": "https://localhost:8080/",
          "height": 360
        },
        "id": "ejL1ywyZS05P",
        "outputId": "07764d51-e2ff-4f76-bf98-240f5efa1398"
      },
      "source": [
        "Data=data.head(10)\n",
        "Data"
      ],
      "execution_count": 11,
      "outputs": [
        {
          "output_type": "execute_result",
          "data": {
            "text/html": [
              "<div>\n",
              "<style scoped>\n",
              "    .dataframe tbody tr th:only-of-type {\n",
              "        vertical-align: middle;\n",
              "    }\n",
              "\n",
              "    .dataframe tbody tr th {\n",
              "        vertical-align: top;\n",
              "    }\n",
              "\n",
              "    .dataframe thead th {\n",
              "        text-align: right;\n",
              "    }\n",
              "</style>\n",
              "<table border=\"1\" class=\"dataframe\">\n",
              "  <thead>\n",
              "    <tr style=\"text-align: right;\">\n",
              "      <th></th>\n",
              "      <th>Unnamed: 0</th>\n",
              "      <th>District</th>\n",
              "      <th>State</th>\n",
              "      <th>Literacy</th>\n",
              "    </tr>\n",
              "  </thead>\n",
              "  <tbody>\n",
              "    <tr>\n",
              "      <th>625</th>\n",
              "      <td>626</td>\n",
              "      <td>Serchhip</td>\n",
              "      <td>Mizoram</td>\n",
              "      <td>97.91</td>\n",
              "    </tr>\n",
              "    <tr>\n",
              "      <th>557</th>\n",
              "      <td>558</td>\n",
              "      <td>Aizawl</td>\n",
              "      <td>Mizoram</td>\n",
              "      <td>97.89</td>\n",
              "    </tr>\n",
              "    <tr>\n",
              "      <th>634</th>\n",
              "      <td>635</td>\n",
              "      <td>Mahe</td>\n",
              "      <td>Puducherry</td>\n",
              "      <td>97.87</td>\n",
              "    </tr>\n",
              "    <tr>\n",
              "      <th>233</th>\n",
              "      <td>234</td>\n",
              "      <td>Kottayam</td>\n",
              "      <td>Kerala</td>\n",
              "      <td>97.21</td>\n",
              "    </tr>\n",
              "    <tr>\n",
              "      <th>397</th>\n",
              "      <td>398</td>\n",
              "      <td>Pathanamthitta</td>\n",
              "      <td>Kerala</td>\n",
              "      <td>96.55</td>\n",
              "    </tr>\n",
              "    <tr>\n",
              "      <th>609</th>\n",
              "      <td>610</td>\n",
              "      <td>Champhai</td>\n",
              "      <td>Mizoram</td>\n",
              "      <td>95.91</td>\n",
              "    </tr>\n",
              "    <tr>\n",
              "      <th>103</th>\n",
              "      <td>104</td>\n",
              "      <td>Ernakulam</td>\n",
              "      <td>Kerala</td>\n",
              "      <td>95.89</td>\n",
              "    </tr>\n",
              "    <tr>\n",
              "      <th>214</th>\n",
              "      <td>215</td>\n",
              "      <td>Alappuzha</td>\n",
              "      <td>Kerala</td>\n",
              "      <td>95.72</td>\n",
              "    </tr>\n",
              "    <tr>\n",
              "      <th>169</th>\n",
              "      <td>170</td>\n",
              "      <td>Kannur</td>\n",
              "      <td>Kerala</td>\n",
              "      <td>95.10</td>\n",
              "    </tr>\n",
              "    <tr>\n",
              "      <th>109</th>\n",
              "      <td>110</td>\n",
              "      <td>Thrissur</td>\n",
              "      <td>Kerala</td>\n",
              "      <td>95.08</td>\n",
              "    </tr>\n",
              "  </tbody>\n",
              "</table>\n",
              "</div>"
            ],
            "text/plain": [
              "     Unnamed: 0         District        State  Literacy\n",
              "625         626         Serchhip      Mizoram     97.91\n",
              "557         558           Aizawl      Mizoram     97.89\n",
              "634         635             Mahe   Puducherry     97.87\n",
              "233         234         Kottayam       Kerala     97.21\n",
              "397         398   Pathanamthitta       Kerala     96.55\n",
              "609         610         Champhai      Mizoram     95.91\n",
              "103         104        Ernakulam       Kerala     95.89\n",
              "214         215        Alappuzha       Kerala     95.72\n",
              "169         170           Kannur       Kerala     95.10\n",
              "109         110         Thrissur       Kerala     95.08"
            ]
          },
          "metadata": {},
          "execution_count": 11
        }
      ]
    },
    {
      "cell_type": "code",
      "metadata": {
        "colab": {
          "base_uri": "https://localhost:8080/",
          "height": 671
        },
        "id": "xm_gDotKTC9P",
        "outputId": "08635253-5cea-4406-c208-77aaaf076132"
      },
      "source": [
        "Data2=data.head(20)\n",
        "Data2"
      ],
      "execution_count": 12,
      "outputs": [
        {
          "output_type": "execute_result",
          "data": {
            "text/html": [
              "<div>\n",
              "<style scoped>\n",
              "    .dataframe tbody tr th:only-of-type {\n",
              "        vertical-align: middle;\n",
              "    }\n",
              "\n",
              "    .dataframe tbody tr th {\n",
              "        vertical-align: top;\n",
              "    }\n",
              "\n",
              "    .dataframe thead th {\n",
              "        text-align: right;\n",
              "    }\n",
              "</style>\n",
              "<table border=\"1\" class=\"dataframe\">\n",
              "  <thead>\n",
              "    <tr style=\"text-align: right;\">\n",
              "      <th></th>\n",
              "      <th>Unnamed: 0</th>\n",
              "      <th>District</th>\n",
              "      <th>State</th>\n",
              "      <th>Literacy</th>\n",
              "    </tr>\n",
              "  </thead>\n",
              "  <tbody>\n",
              "    <tr>\n",
              "      <th>625</th>\n",
              "      <td>626</td>\n",
              "      <td>Serchhip</td>\n",
              "      <td>Mizoram</td>\n",
              "      <td>97.91</td>\n",
              "    </tr>\n",
              "    <tr>\n",
              "      <th>557</th>\n",
              "      <td>558</td>\n",
              "      <td>Aizawl</td>\n",
              "      <td>Mizoram</td>\n",
              "      <td>97.89</td>\n",
              "    </tr>\n",
              "    <tr>\n",
              "      <th>634</th>\n",
              "      <td>635</td>\n",
              "      <td>Mahe</td>\n",
              "      <td>Puducherry</td>\n",
              "      <td>97.87</td>\n",
              "    </tr>\n",
              "    <tr>\n",
              "      <th>233</th>\n",
              "      <td>234</td>\n",
              "      <td>Kottayam</td>\n",
              "      <td>Kerala</td>\n",
              "      <td>97.21</td>\n",
              "    </tr>\n",
              "    <tr>\n",
              "      <th>397</th>\n",
              "      <td>398</td>\n",
              "      <td>Pathanamthitta</td>\n",
              "      <td>Kerala</td>\n",
              "      <td>96.55</td>\n",
              "    </tr>\n",
              "    <tr>\n",
              "      <th>609</th>\n",
              "      <td>610</td>\n",
              "      <td>Champhai</td>\n",
              "      <td>Mizoram</td>\n",
              "      <td>95.91</td>\n",
              "    </tr>\n",
              "    <tr>\n",
              "      <th>103</th>\n",
              "      <td>104</td>\n",
              "      <td>Ernakulam</td>\n",
              "      <td>Kerala</td>\n",
              "      <td>95.89</td>\n",
              "    </tr>\n",
              "    <tr>\n",
              "      <th>214</th>\n",
              "      <td>215</td>\n",
              "      <td>Alappuzha</td>\n",
              "      <td>Kerala</td>\n",
              "      <td>95.72</td>\n",
              "    </tr>\n",
              "    <tr>\n",
              "      <th>169</th>\n",
              "      <td>170</td>\n",
              "      <td>Kannur</td>\n",
              "      <td>Kerala</td>\n",
              "      <td>95.10</td>\n",
              "    </tr>\n",
              "    <tr>\n",
              "      <th>109</th>\n",
              "      <td>110</td>\n",
              "      <td>Thrissur</td>\n",
              "      <td>Kerala</td>\n",
              "      <td>95.08</td>\n",
              "    </tr>\n",
              "    <tr>\n",
              "      <th>113</th>\n",
              "      <td>114</td>\n",
              "      <td>Kozhikode</td>\n",
              "      <td>Kerala</td>\n",
              "      <td>95.08</td>\n",
              "    </tr>\n",
              "    <tr>\n",
              "      <th>152</th>\n",
              "      <td>153</td>\n",
              "      <td>Kollam</td>\n",
              "      <td>Kerala</td>\n",
              "      <td>94.09</td>\n",
              "    </tr>\n",
              "    <tr>\n",
              "      <th>49</th>\n",
              "      <td>50</td>\n",
              "      <td>Malappuram</td>\n",
              "      <td>Kerala</td>\n",
              "      <td>93.57</td>\n",
              "    </tr>\n",
              "    <tr>\n",
              "      <th>619</th>\n",
              "      <td>620</td>\n",
              "      <td>Kolasib</td>\n",
              "      <td>Mizoram</td>\n",
              "      <td>93.50</td>\n",
              "    </tr>\n",
              "    <tr>\n",
              "      <th>102</th>\n",
              "      <td>103</td>\n",
              "      <td>Thiruvananthapuram</td>\n",
              "      <td>Kerala</td>\n",
              "      <td>93.02</td>\n",
              "    </tr>\n",
              "    <tr>\n",
              "      <th>415</th>\n",
              "      <td>416</td>\n",
              "      <td>Idukki</td>\n",
              "      <td>Kerala</td>\n",
              "      <td>91.99</td>\n",
              "    </tr>\n",
              "    <tr>\n",
              "      <th>626</th>\n",
              "      <td>627</td>\n",
              "      <td>Lakshadweep</td>\n",
              "      <td>Lakshadweep</td>\n",
              "      <td>91.85</td>\n",
              "    </tr>\n",
              "    <tr>\n",
              "      <th>252</th>\n",
              "      <td>253</td>\n",
              "      <td>Kanniyakumari</td>\n",
              "      <td>Tamil Nadu</td>\n",
              "      <td>91.75</td>\n",
              "    </tr>\n",
              "    <tr>\n",
              "      <th>590</th>\n",
              "      <td>591</td>\n",
              "      <td>Mokokchung</td>\n",
              "      <td>Nagaland</td>\n",
              "      <td>91.62</td>\n",
              "    </tr>\n",
              "    <tr>\n",
              "      <th>28</th>\n",
              "      <td>29</td>\n",
              "      <td>Chennai</td>\n",
              "      <td>Tamil Nadu</td>\n",
              "      <td>90.18</td>\n",
              "    </tr>\n",
              "  </tbody>\n",
              "</table>\n",
              "</div>"
            ],
            "text/plain": [
              "     Unnamed: 0             District         State  Literacy\n",
              "625         626             Serchhip       Mizoram     97.91\n",
              "557         558               Aizawl       Mizoram     97.89\n",
              "634         635                 Mahe    Puducherry     97.87\n",
              "233         234             Kottayam        Kerala     97.21\n",
              "397         398       Pathanamthitta        Kerala     96.55\n",
              "609         610             Champhai       Mizoram     95.91\n",
              "103         104            Ernakulam        Kerala     95.89\n",
              "214         215            Alappuzha        Kerala     95.72\n",
              "169         170               Kannur        Kerala     95.10\n",
              "109         110             Thrissur        Kerala     95.08\n",
              "113         114            Kozhikode        Kerala     95.08\n",
              "152         153               Kollam        Kerala     94.09\n",
              "49           50           Malappuram        Kerala     93.57\n",
              "619         620              Kolasib       Mizoram     93.50\n",
              "102         103   Thiruvananthapuram        Kerala     93.02\n",
              "415         416               Idukki        Kerala     91.99\n",
              "626         627          Lakshadweep   Lakshadweep     91.85\n",
              "252         253        Kanniyakumari    Tamil Nadu     91.75\n",
              "590         591           Mokokchung      Nagaland     91.62\n",
              "28           29              Chennai    Tamil Nadu     90.18"
            ]
          },
          "metadata": {},
          "execution_count": 12
        }
      ]
    }
  ]
}