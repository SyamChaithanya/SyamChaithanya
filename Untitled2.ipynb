{
  "nbformat": 4,
  "nbformat_minor": 0,
  "metadata": {
    "colab": {
      "name": "Untitled2.ipynb",
      "provenance": [],
      "authorship_tag": "ABX9TyPBxzu+OS+dfMG8EdBL1gDT",
      "include_colab_link": true
    },
    "kernelspec": {
      "name": "python3",
      "display_name": "Python 3"
    },
    "language_info": {
      "name": "python"
    }
  },
  "cells": [
    {
      "cell_type": "markdown",
      "metadata": {
        "id": "view-in-github",
        "colab_type": "text"
      },
      "source": [
        "<a href=\"https://colab.research.google.com/github/SyamChaithanya/SyamChaithanya/blob/main/Untitled2.ipynb\" target=\"_parent\"><img src=\"https://colab.research.google.com/assets/colab-badge.svg\" alt=\"Open In Colab\"/></a>"
      ]
    },
    {
      "cell_type": "markdown",
      "metadata": {
        "id": "X5z8jWeYRGW9"
      },
      "source": [
        "IMPORTING LIBRARIES"
      ]
    },
    {
      "cell_type": "code",
      "metadata": {
        "id": "gy8-FoQ5RSOK"
      },
      "source": [
        "import numpy as np\n",
        "import pandas as pd\n",
        "from matplotlib import pyplot as plt\n",
        "import seaborn as sns"
      ],
      "execution_count": 1,
      "outputs": []
    },
    {
      "cell_type": "markdown",
      "metadata": {
        "id": "ZeL-P016RZaQ"
      },
      "source": [
        "UNDERSTANDING THE DATA"
      ]
    },
    {
      "cell_type": "code",
      "metadata": {
        "id": "pg0YG1uXRkZs"
      },
      "source": [
        "data=pd. read_csv(\"Literacy Data 2011.csv\")"
      ],
      "execution_count": 2,
      "outputs": []
    },
    {
      "cell_type": "code",
      "metadata": {
        "colab": {
          "base_uri": "https://localhost:8080/",
          "height": 204
        },
        "id": "70T0JPwxR1vn",
        "outputId": "f3d6d501-2a57-41a1-ac4e-42ece83e8721"
      },
      "source": [
        "data.head()"
      ],
      "execution_count": 91,
      "outputs": [
        {
          "output_type": "execute_result",
          "data": {
            "text/html": [
              "<div>\n",
              "<style scoped>\n",
              "    .dataframe tbody tr th:only-of-type {\n",
              "        vertical-align: middle;\n",
              "    }\n",
              "\n",
              "    .dataframe tbody tr th {\n",
              "        vertical-align: top;\n",
              "    }\n",
              "\n",
              "    .dataframe thead th {\n",
              "        text-align: right;\n",
              "    }\n",
              "</style>\n",
              "<table border=\"1\" class=\"dataframe\">\n",
              "  <thead>\n",
              "    <tr style=\"text-align: right;\">\n",
              "      <th></th>\n",
              "      <th>Unnamed: 0</th>\n",
              "      <th>District</th>\n",
              "      <th>State</th>\n",
              "      <th>Literacy</th>\n",
              "    </tr>\n",
              "  </thead>\n",
              "  <tbody>\n",
              "    <tr>\n",
              "      <th>625</th>\n",
              "      <td>626</td>\n",
              "      <td>Serchhip</td>\n",
              "      <td>Mizoram</td>\n",
              "      <td>97.91</td>\n",
              "    </tr>\n",
              "    <tr>\n",
              "      <th>557</th>\n",
              "      <td>558</td>\n",
              "      <td>Aizawl</td>\n",
              "      <td>Mizoram</td>\n",
              "      <td>97.89</td>\n",
              "    </tr>\n",
              "    <tr>\n",
              "      <th>634</th>\n",
              "      <td>635</td>\n",
              "      <td>Mahe</td>\n",
              "      <td>Puducherry</td>\n",
              "      <td>97.87</td>\n",
              "    </tr>\n",
              "    <tr>\n",
              "      <th>233</th>\n",
              "      <td>234</td>\n",
              "      <td>Kottayam</td>\n",
              "      <td>Kerala</td>\n",
              "      <td>97.21</td>\n",
              "    </tr>\n",
              "    <tr>\n",
              "      <th>397</th>\n",
              "      <td>398</td>\n",
              "      <td>Pathanamthitta</td>\n",
              "      <td>Kerala</td>\n",
              "      <td>96.55</td>\n",
              "    </tr>\n",
              "  </tbody>\n",
              "</table>\n",
              "</div>"
            ],
            "text/plain": [
              "     Unnamed: 0         District        State  Literacy\n",
              "625         626         Serchhip      Mizoram     97.91\n",
              "557         558           Aizawl      Mizoram     97.89\n",
              "634         635             Mahe   Puducherry     97.87\n",
              "233         234         Kottayam       Kerala     97.21\n",
              "397         398   Pathanamthitta       Kerala     96.55"
            ]
          },
          "metadata": {},
          "execution_count": 91
        }
      ]
    },
    {
      "cell_type": "code",
      "metadata": {
        "colab": {
          "base_uri": "https://localhost:8080/",
          "height": 204
        },
        "id": "Wynomd-PR8Fm",
        "outputId": "bb12044d-df91-499c-df91-eedd344cddc9"
      },
      "source": [
        "data.tail()"
      ],
      "execution_count": 92,
      "outputs": [
        {
          "output_type": "execute_result",
          "data": {
            "text/html": [
              "<div>\n",
              "<style scoped>\n",
              "    .dataframe tbody tr th:only-of-type {\n",
              "        vertical-align: middle;\n",
              "    }\n",
              "\n",
              "    .dataframe tbody tr th {\n",
              "        vertical-align: top;\n",
              "    }\n",
              "\n",
              "    .dataframe thead th {\n",
              "        text-align: right;\n",
              "    }\n",
              "</style>\n",
              "<table border=\"1\" class=\"dataframe\">\n",
              "  <thead>\n",
              "    <tr style=\"text-align: right;\">\n",
              "      <th></th>\n",
              "      <th>Unnamed: 0</th>\n",
              "      <th>District</th>\n",
              "      <th>State</th>\n",
              "      <th>Literacy</th>\n",
              "    </tr>\n",
              "  </thead>\n",
              "  <tbody>\n",
              "    <tr>\n",
              "      <th>391</th>\n",
              "      <td>392</td>\n",
              "      <td>Nabarangapur</td>\n",
              "      <td>Orissa</td>\n",
              "      <td>46.43</td>\n",
              "    </tr>\n",
              "    <tr>\n",
              "      <th>439</th>\n",
              "      <td>440</td>\n",
              "      <td>Jhabua</td>\n",
              "      <td>Madhya Pradesh</td>\n",
              "      <td>43.30</td>\n",
              "    </tr>\n",
              "    <tr>\n",
              "      <th>539</th>\n",
              "      <td>540</td>\n",
              "      <td>Dantewada</td>\n",
              "      <td>Chhattisgarh</td>\n",
              "      <td>42.12</td>\n",
              "    </tr>\n",
              "    <tr>\n",
              "      <th>580</th>\n",
              "      <td>581</td>\n",
              "      <td>Bijapur</td>\n",
              "      <td>Chhattisgarh</td>\n",
              "      <td>40.86</td>\n",
              "    </tr>\n",
              "    <tr>\n",
              "      <th>497</th>\n",
              "      <td>498</td>\n",
              "      <td>Alirajpur</td>\n",
              "      <td>Madhya Pradesh</td>\n",
              "      <td>36.10</td>\n",
              "    </tr>\n",
              "  </tbody>\n",
              "</table>\n",
              "</div>"
            ],
            "text/plain": [
              "     Unnamed: 0       District            State  Literacy\n",
              "391         392   Nabarangapur           Orissa     46.43\n",
              "439         440         Jhabua   Madhya Pradesh     43.30\n",
              "539         540      Dantewada     Chhattisgarh     42.12\n",
              "580         581        Bijapur     Chhattisgarh     40.86\n",
              "497         498      Alirajpur   Madhya Pradesh     36.10"
            ]
          },
          "metadata": {},
          "execution_count": 92
        }
      ]
    },
    {
      "cell_type": "code",
      "metadata": {
        "colab": {
          "base_uri": "https://localhost:8080/"
        },
        "id": "4CDeecsFSHSI",
        "outputId": "79e9d5d9-5c8b-4351-ecb6-69c698735526"
      },
      "source": [
        "data.shape"
      ],
      "execution_count": 5,
      "outputs": [
        {
          "output_type": "execute_result",
          "data": {
            "text/plain": [
              "(640, 4)"
            ]
          },
          "metadata": {},
          "execution_count": 5
        }
      ]
    },
    {
      "cell_type": "code",
      "metadata": {
        "colab": {
          "base_uri": "https://localhost:8080/",
          "height": 298
        },
        "id": "bzROxhIdSKi_",
        "outputId": "ac4dcd5d-4857-4949-8644-119560d2b75c"
      },
      "source": [
        "data.describe()"
      ],
      "execution_count": 90,
      "outputs": [
        {
          "output_type": "execute_result",
          "data": {
            "text/html": [
              "<div>\n",
              "<style scoped>\n",
              "    .dataframe tbody tr th:only-of-type {\n",
              "        vertical-align: middle;\n",
              "    }\n",
              "\n",
              "    .dataframe tbody tr th {\n",
              "        vertical-align: top;\n",
              "    }\n",
              "\n",
              "    .dataframe thead th {\n",
              "        text-align: right;\n",
              "    }\n",
              "</style>\n",
              "<table border=\"1\" class=\"dataframe\">\n",
              "  <thead>\n",
              "    <tr style=\"text-align: right;\">\n",
              "      <th></th>\n",
              "      <th>Unnamed: 0</th>\n",
              "      <th>Literacy</th>\n",
              "    </tr>\n",
              "  </thead>\n",
              "  <tbody>\n",
              "    <tr>\n",
              "      <th>count</th>\n",
              "      <td>640.000000</td>\n",
              "      <td>640.000000</td>\n",
              "    </tr>\n",
              "    <tr>\n",
              "      <th>mean</th>\n",
              "      <td>320.500000</td>\n",
              "      <td>72.308422</td>\n",
              "    </tr>\n",
              "    <tr>\n",
              "      <th>std</th>\n",
              "      <td>184.896367</td>\n",
              "      <td>10.488816</td>\n",
              "    </tr>\n",
              "    <tr>\n",
              "      <th>min</th>\n",
              "      <td>1.000000</td>\n",
              "      <td>36.100000</td>\n",
              "    </tr>\n",
              "    <tr>\n",
              "      <th>25%</th>\n",
              "      <td>160.750000</td>\n",
              "      <td>65.095000</td>\n",
              "    </tr>\n",
              "    <tr>\n",
              "      <th>50%</th>\n",
              "      <td>320.500000</td>\n",
              "      <td>72.170000</td>\n",
              "    </tr>\n",
              "    <tr>\n",
              "      <th>75%</th>\n",
              "      <td>480.250000</td>\n",
              "      <td>79.962500</td>\n",
              "    </tr>\n",
              "    <tr>\n",
              "      <th>max</th>\n",
              "      <td>640.000000</td>\n",
              "      <td>97.910000</td>\n",
              "    </tr>\n",
              "  </tbody>\n",
              "</table>\n",
              "</div>"
            ],
            "text/plain": [
              "       Unnamed: 0    Literacy\n",
              "count  640.000000  640.000000\n",
              "mean   320.500000   72.308422\n",
              "std    184.896367   10.488816\n",
              "min      1.000000   36.100000\n",
              "25%    160.750000   65.095000\n",
              "50%    320.500000   72.170000\n",
              "75%    480.250000   79.962500\n",
              "max    640.000000   97.910000"
            ]
          },
          "metadata": {},
          "execution_count": 90
        }
      ]
    },
    {
      "cell_type": "code",
      "metadata": {
        "colab": {
          "base_uri": "https://localhost:8080/"
        },
        "id": "2AhGluKZSVRm",
        "outputId": "b853ab40-695f-485e-8ad0-aed99001a70c"
      },
      "source": [
        "data.info()"
      ],
      "execution_count": 7,
      "outputs": [
        {
          "output_type": "stream",
          "name": "stdout",
          "text": [
            "<class 'pandas.core.frame.DataFrame'>\n",
            "RangeIndex: 640 entries, 0 to 639\n",
            "Data columns (total 4 columns):\n",
            " #   Column      Non-Null Count  Dtype  \n",
            "---  ------      --------------  -----  \n",
            " 0   Unnamed: 0  640 non-null    int64  \n",
            " 1   District    640 non-null    object \n",
            " 2   State       640 non-null    object \n",
            " 3   Literacy    640 non-null    float64\n",
            "dtypes: float64(1), int64(1), object(2)\n",
            "memory usage: 20.1+ KB\n"
          ]
        }
      ]
    },
    {
      "cell_type": "code",
      "metadata": {
        "colab": {
          "base_uri": "https://localhost:8080/"
        },
        "id": "4pzbSOEKSZzt",
        "outputId": "1b4d0289-4500-4822-d0fa-a834937c4dcf"
      },
      "source": [
        "data['State'].value_counts()"
      ],
      "execution_count": 8,
      "outputs": [
        {
          "output_type": "execute_result",
          "data": {
            "text/plain": [
              " Uttar Pradesh                  71\n",
              " Madhya Pradesh                 50\n",
              " Bihar                          38\n",
              " Maharashtra                    35\n",
              " Rajasthan                      33\n",
              " Tamil Nadu                     32\n",
              " Karnataka                      30\n",
              " Orissa                         30\n",
              " Assam                          27\n",
              " Gujarat                        26\n",
              " Jharkhand                      24\n",
              " Andhra Pradesh                 23\n",
              " Jammu and Kashmir              22\n",
              " Haryana                        21\n",
              " Punjab                         20\n",
              " West Bengal                    19\n",
              " Chhattisgarh                   18\n",
              " Arunachal Pradesh              16\n",
              " Kerala                         14\n",
              " Uttarakhand                    13\n",
              " Himachal Pradesh               12\n",
              " Nagaland                       11\n",
              " Manipur                         9\n",
              " Delhi                           9\n",
              " Mizoram                         8\n",
              " Meghalaya                       7\n",
              " Puducherry                      4\n",
              " Tripura                         4\n",
              " Sikkim                          4\n",
              " Andaman And Nicobar Islands     3\n",
              " Daman and Diu                   2\n",
              " Goa                             2\n",
              " Lakshadweep                     1\n",
              " Chandigarh                      1\n",
              " Dadra and Nagar Haveli          1\n",
              "Name: State, dtype: int64"
            ]
          },
          "metadata": {},
          "execution_count": 8
        }
      ]
    },
    {
      "cell_type": "code",
      "metadata": {
        "colab": {
          "base_uri": "https://localhost:8080/"
        },
        "id": "SAtO9qDNSlrt",
        "outputId": "bd417a52-a239-4ed3-da34-38cecdae78db"
      },
      "source": [
        "data[\"State\"].value_counts()[0:10]"
      ],
      "execution_count": 9,
      "outputs": [
        {
          "output_type": "execute_result",
          "data": {
            "text/plain": [
              " Uttar Pradesh     71\n",
              " Madhya Pradesh    50\n",
              " Bihar             38\n",
              " Maharashtra       35\n",
              " Rajasthan         33\n",
              " Tamil Nadu        32\n",
              " Karnataka         30\n",
              " Orissa            30\n",
              " Assam             27\n",
              " Gujarat           26\n",
              "Name: State, dtype: int64"
            ]
          },
          "metadata": {},
          "execution_count": 9
        }
      ]
    },
    {
      "cell_type": "code",
      "metadata": {
        "colab": {
          "base_uri": "https://localhost:8080/",
          "height": 420
        },
        "id": "rWQsTpyYSqc8",
        "outputId": "7227d375-5689-42c1-fb1c-601db048ea70"
      },
      "source": [
        "data=data.sort_values(by=['Literacy'],ascending=False)\n",
        "data"
      ],
      "execution_count": 89,
      "outputs": [
        {
          "output_type": "execute_result",
          "data": {
            "text/html": [
              "<div>\n",
              "<style scoped>\n",
              "    .dataframe tbody tr th:only-of-type {\n",
              "        vertical-align: middle;\n",
              "    }\n",
              "\n",
              "    .dataframe tbody tr th {\n",
              "        vertical-align: top;\n",
              "    }\n",
              "\n",
              "    .dataframe thead th {\n",
              "        text-align: right;\n",
              "    }\n",
              "</style>\n",
              "<table border=\"1\" class=\"dataframe\">\n",
              "  <thead>\n",
              "    <tr style=\"text-align: right;\">\n",
              "      <th></th>\n",
              "      <th>Unnamed: 0</th>\n",
              "      <th>District</th>\n",
              "      <th>State</th>\n",
              "      <th>Literacy</th>\n",
              "    </tr>\n",
              "  </thead>\n",
              "  <tbody>\n",
              "    <tr>\n",
              "      <th>625</th>\n",
              "      <td>626</td>\n",
              "      <td>Serchhip</td>\n",
              "      <td>Mizoram</td>\n",
              "      <td>97.91</td>\n",
              "    </tr>\n",
              "    <tr>\n",
              "      <th>557</th>\n",
              "      <td>558</td>\n",
              "      <td>Aizawl</td>\n",
              "      <td>Mizoram</td>\n",
              "      <td>97.89</td>\n",
              "    </tr>\n",
              "    <tr>\n",
              "      <th>634</th>\n",
              "      <td>635</td>\n",
              "      <td>Mahe</td>\n",
              "      <td>Puducherry</td>\n",
              "      <td>97.87</td>\n",
              "    </tr>\n",
              "    <tr>\n",
              "      <th>233</th>\n",
              "      <td>234</td>\n",
              "      <td>Kottayam</td>\n",
              "      <td>Kerala</td>\n",
              "      <td>97.21</td>\n",
              "    </tr>\n",
              "    <tr>\n",
              "      <th>397</th>\n",
              "      <td>398</td>\n",
              "      <td>Pathanamthitta</td>\n",
              "      <td>Kerala</td>\n",
              "      <td>96.55</td>\n",
              "    </tr>\n",
              "    <tr>\n",
              "      <th>...</th>\n",
              "      <td>...</td>\n",
              "      <td>...</td>\n",
              "      <td>...</td>\n",
              "      <td>...</td>\n",
              "    </tr>\n",
              "    <tr>\n",
              "      <th>391</th>\n",
              "      <td>392</td>\n",
              "      <td>Nabarangapur</td>\n",
              "      <td>Orissa</td>\n",
              "      <td>46.43</td>\n",
              "    </tr>\n",
              "    <tr>\n",
              "      <th>439</th>\n",
              "      <td>440</td>\n",
              "      <td>Jhabua</td>\n",
              "      <td>Madhya Pradesh</td>\n",
              "      <td>43.30</td>\n",
              "    </tr>\n",
              "    <tr>\n",
              "      <th>539</th>\n",
              "      <td>540</td>\n",
              "      <td>Dantewada</td>\n",
              "      <td>Chhattisgarh</td>\n",
              "      <td>42.12</td>\n",
              "    </tr>\n",
              "    <tr>\n",
              "      <th>580</th>\n",
              "      <td>581</td>\n",
              "      <td>Bijapur</td>\n",
              "      <td>Chhattisgarh</td>\n",
              "      <td>40.86</td>\n",
              "    </tr>\n",
              "    <tr>\n",
              "      <th>497</th>\n",
              "      <td>498</td>\n",
              "      <td>Alirajpur</td>\n",
              "      <td>Madhya Pradesh</td>\n",
              "      <td>36.10</td>\n",
              "    </tr>\n",
              "  </tbody>\n",
              "</table>\n",
              "<p>640 rows × 4 columns</p>\n",
              "</div>"
            ],
            "text/plain": [
              "     Unnamed: 0         District            State  Literacy\n",
              "625         626         Serchhip          Mizoram     97.91\n",
              "557         558           Aizawl          Mizoram     97.89\n",
              "634         635             Mahe       Puducherry     97.87\n",
              "233         234         Kottayam           Kerala     97.21\n",
              "397         398   Pathanamthitta           Kerala     96.55\n",
              "..          ...              ...              ...       ...\n",
              "391         392     Nabarangapur           Orissa     46.43\n",
              "439         440           Jhabua   Madhya Pradesh     43.30\n",
              "539         540        Dantewada     Chhattisgarh     42.12\n",
              "580         581          Bijapur     Chhattisgarh     40.86\n",
              "497         498        Alirajpur   Madhya Pradesh     36.10\n",
              "\n",
              "[640 rows x 4 columns]"
            ]
          },
          "metadata": {},
          "execution_count": 89
        }
      ]
    },
    {
      "cell_type": "code",
      "metadata": {
        "colab": {
          "base_uri": "https://localhost:8080/",
          "height": 360
        },
        "id": "ejL1ywyZS05P",
        "outputId": "e3543dec-dd3d-4333-9a7b-f8cec6da37cf"
      },
      "source": [
        "Data=data.head(10)\n",
        "Data"
      ],
      "execution_count": 88,
      "outputs": [
        {
          "output_type": "execute_result",
          "data": {
            "text/html": [
              "<div>\n",
              "<style scoped>\n",
              "    .dataframe tbody tr th:only-of-type {\n",
              "        vertical-align: middle;\n",
              "    }\n",
              "\n",
              "    .dataframe tbody tr th {\n",
              "        vertical-align: top;\n",
              "    }\n",
              "\n",
              "    .dataframe thead th {\n",
              "        text-align: right;\n",
              "    }\n",
              "</style>\n",
              "<table border=\"1\" class=\"dataframe\">\n",
              "  <thead>\n",
              "    <tr style=\"text-align: right;\">\n",
              "      <th></th>\n",
              "      <th>Unnamed: 0</th>\n",
              "      <th>District</th>\n",
              "      <th>State</th>\n",
              "      <th>Literacy</th>\n",
              "    </tr>\n",
              "  </thead>\n",
              "  <tbody>\n",
              "    <tr>\n",
              "      <th>625</th>\n",
              "      <td>626</td>\n",
              "      <td>Serchhip</td>\n",
              "      <td>Mizoram</td>\n",
              "      <td>97.91</td>\n",
              "    </tr>\n",
              "    <tr>\n",
              "      <th>557</th>\n",
              "      <td>558</td>\n",
              "      <td>Aizawl</td>\n",
              "      <td>Mizoram</td>\n",
              "      <td>97.89</td>\n",
              "    </tr>\n",
              "    <tr>\n",
              "      <th>634</th>\n",
              "      <td>635</td>\n",
              "      <td>Mahe</td>\n",
              "      <td>Puducherry</td>\n",
              "      <td>97.87</td>\n",
              "    </tr>\n",
              "    <tr>\n",
              "      <th>233</th>\n",
              "      <td>234</td>\n",
              "      <td>Kottayam</td>\n",
              "      <td>Kerala</td>\n",
              "      <td>97.21</td>\n",
              "    </tr>\n",
              "    <tr>\n",
              "      <th>397</th>\n",
              "      <td>398</td>\n",
              "      <td>Pathanamthitta</td>\n",
              "      <td>Kerala</td>\n",
              "      <td>96.55</td>\n",
              "    </tr>\n",
              "    <tr>\n",
              "      <th>609</th>\n",
              "      <td>610</td>\n",
              "      <td>Champhai</td>\n",
              "      <td>Mizoram</td>\n",
              "      <td>95.91</td>\n",
              "    </tr>\n",
              "    <tr>\n",
              "      <th>103</th>\n",
              "      <td>104</td>\n",
              "      <td>Ernakulam</td>\n",
              "      <td>Kerala</td>\n",
              "      <td>95.89</td>\n",
              "    </tr>\n",
              "    <tr>\n",
              "      <th>214</th>\n",
              "      <td>215</td>\n",
              "      <td>Alappuzha</td>\n",
              "      <td>Kerala</td>\n",
              "      <td>95.72</td>\n",
              "    </tr>\n",
              "    <tr>\n",
              "      <th>169</th>\n",
              "      <td>170</td>\n",
              "      <td>Kannur</td>\n",
              "      <td>Kerala</td>\n",
              "      <td>95.10</td>\n",
              "    </tr>\n",
              "    <tr>\n",
              "      <th>109</th>\n",
              "      <td>110</td>\n",
              "      <td>Thrissur</td>\n",
              "      <td>Kerala</td>\n",
              "      <td>95.08</td>\n",
              "    </tr>\n",
              "  </tbody>\n",
              "</table>\n",
              "</div>"
            ],
            "text/plain": [
              "     Unnamed: 0         District        State  Literacy\n",
              "625         626         Serchhip      Mizoram     97.91\n",
              "557         558           Aizawl      Mizoram     97.89\n",
              "634         635             Mahe   Puducherry     97.87\n",
              "233         234         Kottayam       Kerala     97.21\n",
              "397         398   Pathanamthitta       Kerala     96.55\n",
              "609         610         Champhai      Mizoram     95.91\n",
              "103         104        Ernakulam       Kerala     95.89\n",
              "214         215        Alappuzha       Kerala     95.72\n",
              "169         170           Kannur       Kerala     95.10\n",
              "109         110         Thrissur       Kerala     95.08"
            ]
          },
          "metadata": {},
          "execution_count": 88
        }
      ]
    },
    {
      "cell_type": "code",
      "metadata": {
        "colab": {
          "base_uri": "https://localhost:8080/",
          "height": 671
        },
        "id": "xm_gDotKTC9P",
        "outputId": "8f357f5b-4957-48df-ac8d-4b96fe5f0421"
      },
      "source": [
        "Data2=data.head(20)\n",
        "Data2"
      ],
      "execution_count": 87,
      "outputs": [
        {
          "output_type": "execute_result",
          "data": {
            "text/html": [
              "<div>\n",
              "<style scoped>\n",
              "    .dataframe tbody tr th:only-of-type {\n",
              "        vertical-align: middle;\n",
              "    }\n",
              "\n",
              "    .dataframe tbody tr th {\n",
              "        vertical-align: top;\n",
              "    }\n",
              "\n",
              "    .dataframe thead th {\n",
              "        text-align: right;\n",
              "    }\n",
              "</style>\n",
              "<table border=\"1\" class=\"dataframe\">\n",
              "  <thead>\n",
              "    <tr style=\"text-align: right;\">\n",
              "      <th></th>\n",
              "      <th>Unnamed: 0</th>\n",
              "      <th>District</th>\n",
              "      <th>State</th>\n",
              "      <th>Literacy</th>\n",
              "    </tr>\n",
              "  </thead>\n",
              "  <tbody>\n",
              "    <tr>\n",
              "      <th>625</th>\n",
              "      <td>626</td>\n",
              "      <td>Serchhip</td>\n",
              "      <td>Mizoram</td>\n",
              "      <td>97.91</td>\n",
              "    </tr>\n",
              "    <tr>\n",
              "      <th>557</th>\n",
              "      <td>558</td>\n",
              "      <td>Aizawl</td>\n",
              "      <td>Mizoram</td>\n",
              "      <td>97.89</td>\n",
              "    </tr>\n",
              "    <tr>\n",
              "      <th>634</th>\n",
              "      <td>635</td>\n",
              "      <td>Mahe</td>\n",
              "      <td>Puducherry</td>\n",
              "      <td>97.87</td>\n",
              "    </tr>\n",
              "    <tr>\n",
              "      <th>233</th>\n",
              "      <td>234</td>\n",
              "      <td>Kottayam</td>\n",
              "      <td>Kerala</td>\n",
              "      <td>97.21</td>\n",
              "    </tr>\n",
              "    <tr>\n",
              "      <th>397</th>\n",
              "      <td>398</td>\n",
              "      <td>Pathanamthitta</td>\n",
              "      <td>Kerala</td>\n",
              "      <td>96.55</td>\n",
              "    </tr>\n",
              "    <tr>\n",
              "      <th>609</th>\n",
              "      <td>610</td>\n",
              "      <td>Champhai</td>\n",
              "      <td>Mizoram</td>\n",
              "      <td>95.91</td>\n",
              "    </tr>\n",
              "    <tr>\n",
              "      <th>103</th>\n",
              "      <td>104</td>\n",
              "      <td>Ernakulam</td>\n",
              "      <td>Kerala</td>\n",
              "      <td>95.89</td>\n",
              "    </tr>\n",
              "    <tr>\n",
              "      <th>214</th>\n",
              "      <td>215</td>\n",
              "      <td>Alappuzha</td>\n",
              "      <td>Kerala</td>\n",
              "      <td>95.72</td>\n",
              "    </tr>\n",
              "    <tr>\n",
              "      <th>169</th>\n",
              "      <td>170</td>\n",
              "      <td>Kannur</td>\n",
              "      <td>Kerala</td>\n",
              "      <td>95.10</td>\n",
              "    </tr>\n",
              "    <tr>\n",
              "      <th>109</th>\n",
              "      <td>110</td>\n",
              "      <td>Thrissur</td>\n",
              "      <td>Kerala</td>\n",
              "      <td>95.08</td>\n",
              "    </tr>\n",
              "    <tr>\n",
              "      <th>113</th>\n",
              "      <td>114</td>\n",
              "      <td>Kozhikode</td>\n",
              "      <td>Kerala</td>\n",
              "      <td>95.08</td>\n",
              "    </tr>\n",
              "    <tr>\n",
              "      <th>152</th>\n",
              "      <td>153</td>\n",
              "      <td>Kollam</td>\n",
              "      <td>Kerala</td>\n",
              "      <td>94.09</td>\n",
              "    </tr>\n",
              "    <tr>\n",
              "      <th>49</th>\n",
              "      <td>50</td>\n",
              "      <td>Malappuram</td>\n",
              "      <td>Kerala</td>\n",
              "      <td>93.57</td>\n",
              "    </tr>\n",
              "    <tr>\n",
              "      <th>619</th>\n",
              "      <td>620</td>\n",
              "      <td>Kolasib</td>\n",
              "      <td>Mizoram</td>\n",
              "      <td>93.50</td>\n",
              "    </tr>\n",
              "    <tr>\n",
              "      <th>102</th>\n",
              "      <td>103</td>\n",
              "      <td>Thiruvananthapuram</td>\n",
              "      <td>Kerala</td>\n",
              "      <td>93.02</td>\n",
              "    </tr>\n",
              "    <tr>\n",
              "      <th>415</th>\n",
              "      <td>416</td>\n",
              "      <td>Idukki</td>\n",
              "      <td>Kerala</td>\n",
              "      <td>91.99</td>\n",
              "    </tr>\n",
              "    <tr>\n",
              "      <th>626</th>\n",
              "      <td>627</td>\n",
              "      <td>Lakshadweep</td>\n",
              "      <td>Lakshadweep</td>\n",
              "      <td>91.85</td>\n",
              "    </tr>\n",
              "    <tr>\n",
              "      <th>252</th>\n",
              "      <td>253</td>\n",
              "      <td>Kanniyakumari</td>\n",
              "      <td>Tamil Nadu</td>\n",
              "      <td>91.75</td>\n",
              "    </tr>\n",
              "    <tr>\n",
              "      <th>590</th>\n",
              "      <td>591</td>\n",
              "      <td>Mokokchung</td>\n",
              "      <td>Nagaland</td>\n",
              "      <td>91.62</td>\n",
              "    </tr>\n",
              "    <tr>\n",
              "      <th>28</th>\n",
              "      <td>29</td>\n",
              "      <td>Chennai</td>\n",
              "      <td>Tamil Nadu</td>\n",
              "      <td>90.18</td>\n",
              "    </tr>\n",
              "  </tbody>\n",
              "</table>\n",
              "</div>"
            ],
            "text/plain": [
              "     Unnamed: 0             District         State  Literacy\n",
              "625         626             Serchhip       Mizoram     97.91\n",
              "557         558               Aizawl       Mizoram     97.89\n",
              "634         635                 Mahe    Puducherry     97.87\n",
              "233         234             Kottayam        Kerala     97.21\n",
              "397         398       Pathanamthitta        Kerala     96.55\n",
              "609         610             Champhai       Mizoram     95.91\n",
              "103         104            Ernakulam        Kerala     95.89\n",
              "214         215            Alappuzha        Kerala     95.72\n",
              "169         170               Kannur        Kerala     95.10\n",
              "109         110             Thrissur        Kerala     95.08\n",
              "113         114            Kozhikode        Kerala     95.08\n",
              "152         153               Kollam        Kerala     94.09\n",
              "49           50           Malappuram        Kerala     93.57\n",
              "619         620              Kolasib       Mizoram     93.50\n",
              "102         103   Thiruvananthapuram        Kerala     93.02\n",
              "415         416               Idukki        Kerala     91.99\n",
              "626         627          Lakshadweep   Lakshadweep     91.85\n",
              "252         253        Kanniyakumari    Tamil Nadu     91.75\n",
              "590         591           Mokokchung      Nagaland     91.62\n",
              "28           29              Chennai    Tamil Nadu     90.18"
            ]
          },
          "metadata": {},
          "execution_count": 87
        }
      ]
    },
    {
      "cell_type": "markdown",
      "metadata": {
        "id": "BqW29De5gIwx"
      },
      "source": [
        "CLEANING THE DATA"
      ]
    },
    {
      "cell_type": "code",
      "metadata": {
        "colab": {
          "base_uri": "https://localhost:8080/"
        },
        "id": "nQCCzfmPgPLb",
        "outputId": "3c84a302-f593-49d0-c6c9-b98c81077a31"
      },
      "source": [
        "data.isnull().sum()"
      ],
      "execution_count": 14,
      "outputs": [
        {
          "output_type": "execute_result",
          "data": {
            "text/plain": [
              "Unnamed: 0    0\n",
              "District      0\n",
              "State         0\n",
              "Literacy      0\n",
              "dtype: int64"
            ]
          },
          "metadata": {},
          "execution_count": 14
        }
      ]
    },
    {
      "cell_type": "code",
      "metadata": {
        "colab": {
          "base_uri": "https://localhost:8080/"
        },
        "id": "OeJZusfUgqHB",
        "outputId": "12665e96-3849-4075-8ac4-ca56ec40217a"
      },
      "source": [
        "data.duplicated()"
      ],
      "execution_count": 15,
      "outputs": [
        {
          "output_type": "execute_result",
          "data": {
            "text/plain": [
              "625    False\n",
              "557    False\n",
              "634    False\n",
              "233    False\n",
              "397    False\n",
              "       ...  \n",
              "391    False\n",
              "439    False\n",
              "539    False\n",
              "580    False\n",
              "497    False\n",
              "Length: 640, dtype: bool"
            ]
          },
          "metadata": {},
          "execution_count": 15
        }
      ]
    },
    {
      "cell_type": "markdown",
      "metadata": {
        "id": "7zWhx0XQgubS"
      },
      "source": [
        "DATA VISUALIZATION"
      ]
    },
    {
      "cell_type": "code",
      "metadata": {
        "colab": {
          "base_uri": "https://localhost:8080/",
          "height": 336
        },
        "id": "1u-QS7C6g4Z5",
        "outputId": "a3a4b680-49a5-4ed1-f589-c36b302da4a5"
      },
      "source": [
        "plt.figure(figsize=(8,5))\n",
        "plt.bar(list(data[\"State\"].value_counts()[0:10].keys()),list(data[\"State\"].value_counts()[0:10]),color='g')\n",
        "plt.title('BAR GRAPH')\n",
        "plt.grid(True)\n",
        "plt.show()"
      ],
      "execution_count": 86,
      "outputs": [
        {
          "output_type": "display_data",
          "data": {
            "image/png": "[encoded data removed]",
            "text/plain": [
              "<Figure size 576x360 with 1 Axes>"
            ]
          },
          "metadata": {
            "needs_background": "light"
          }
        }
      ]
    },
    {
      "cell_type": "code",
      "metadata": {
        "colab": {
          "base_uri": "https://localhost:8080/",
          "height": 281
        },
        "id": "fxzPW0hyhD0C",
        "outputId": "5566c653-029a-49e1-ec50-e72784bd6ac1"
      },
      "source": [
        "plt.hist(Data['Literacy'],bins=10,color='r')\n",
        "plt.title('HISTOGRAM')\n",
        "plt.show()"
      ],
      "execution_count": 84,
      "outputs": [
        {
          "output_type": "display_data",
          "data": {
            "image/png": "[encoded data removed]",
            "text/plain": [
              "<Figure size 432x288 with 1 Axes>"
            ]
          },
          "metadata": {
            "needs_background": "light"
          }
        }
      ]
    },
    {
      "cell_type": "code",
      "metadata": {
        "colab": {
          "base_uri": "https://localhost:8080/",
          "height": 295
        },
        "id": "xTW59D3Bhhyq",
        "outputId": "b201f491-a0cf-4bcb-8e9d-1fe890f179f1"
      },
      "source": [
        "sns.lineplot(data=Data,x='District',y='Literacy')\n",
        "plt.title('LINE PLOT')\n",
        "plt.show()"
      ],
      "execution_count": 85,
      "outputs": [
        {
          "output_type": "display_data",
          "data": {
            "image/png": "[encoded data removed]",
            "text/plain": [
              "<Figure size 432x288 with 1 Axes>"
            ]
          },
          "metadata": {
            "needs_background": "light"
          }
        }
      ]
    },
    {
      "cell_type": "code",
      "metadata": {
        "colab": {
          "base_uri": "https://localhost:8080/",
          "height": 336
        },
        "id": "AOlMbIMHhlM_",
        "outputId": "4122da7f-c62e-4baa-d6f3-7315ed1670bf"
      },
      "source": [
        "plt.figure(figsize=(5,5))\n",
        "plt.scatter(data=Data2,x='State',y='Literacy',marker='*',c='g',s=100)\n",
        "plt.title('SCATTER GRAPH')\n",
        "plt.show()\n"
      ],
      "execution_count": 83,
      "outputs": [
        {
          "output_type": "display_data",
          "data": {
            "image/png": "[encoded data removed]",
            "text/plain": [
              "<Figure size 360x360 with 1 Axes>"
            ]
          },
          "metadata": {
            "needs_background": "light"
          }
        }
      ]
    },
    {
      "cell_type": "markdown",
      "metadata": {
        "id": "f7rCxs3uhwAo"
      },
      "source": [
        "SPLITTING THE DATA"
      ]
    },
    {
      "cell_type": "code",
      "metadata": {
        "id": "c0J5su0fhzix"
      },
      "source": [
        "from sklearn import datasets\n",
        "from sklearn.model_selection import train_test_split\n",
        "import sklearn.model_selection as model_selection"
      ],
      "execution_count": 20,
      "outputs": []
    },
    {
      "cell_type": "code",
      "metadata": {
        "id": "q7GKkPDlh_1x"
      },
      "source": [
        "X=data.iloc[1:,0:2].values"
      ],
      "execution_count": 21,
      "outputs": []
    },
    {
      "cell_type": "code",
      "metadata": {
        "id": "E-IcsMV0iJVB"
      },
      "source": [
        "Y=data.iloc[1:,2]"
      ],
      "execution_count": 22,
      "outputs": []
    },
    {
      "cell_type": "code",
      "metadata": {
        "id": "uiiTDcmMiVho"
      },
      "source": [
        "X_train,X_test,Y_train,Y_test=train_test_split(X,Y,test_size=0.2,random_state=1)"
      ],
      "execution_count": 23,
      "outputs": []
    },
    {
      "cell_type": "code",
      "metadata": {
        "colab": {
          "base_uri": "https://localhost:8080/"
        },
        "id": "562Eu4QrimHD",
        "outputId": "ff223ce7-b2cd-48d4-f465-081f72d90288"
      },
      "source": [
        "X_train"
      ],
      "execution_count": 24,
      "outputs": [
        {
          "output_type": "execute_result",
          "data": {
            "text/plain": [
              "array([[579, ' Champawat'],\n",
              "       [249, ' Bagalkot'],\n",
              "       [378, ' Sirsa'],\n",
              "       ...,\n",
              "       [564, ' Dimapur'],\n",
              "       [17, ' Rangareddy'],\n",
              "       [262, ' Akola']], dtype=object)"
            ]
          },
          "metadata": {},
          "execution_count": 24
        }
      ]
    },
    {
      "cell_type": "code",
      "metadata": {
        "colab": {
          "base_uri": "https://localhost:8080/"
        },
        "id": "KvfE3ZVXirnN",
        "outputId": "1dc60112-5652-4afa-e4bc-71cd7d5e0f8c"
      },
      "source": [
        "X_test"
      ],
      "execution_count": 25,
      "outputs": [
        {
          "output_type": "execute_result",
          "data": {
            "text/plain": [
              "array([[232, ' Jhansi'],\n",
              "       [611, ' Lawngtlai'],\n",
              "       [148, ' Maharajganj'],\n",
              "       [97, ' Rae Bareli'],\n",
              "       [337, ' Deoghar'],\n",
              "       [559, ' Jaintia Hills'],\n",
              "       [432, ' Mandla'],\n",
              "       [143, ' Adilabad'],\n",
              "       [394, ' Korba'],\n",
              "       [542, ' Sirmaur'],\n",
              "       [571, ' Debagarh'],\n",
              "       [39, ' Bareilly'],\n",
              "       [166, ' Bharatpur'],\n",
              "       [293, ' Kishanganj'],\n",
              "       [540, ' Dantewada'],\n",
              "       [222, ' Bokaro'],\n",
              "       [576, ' Kohima'],\n",
              "       [119, ' Madurai'],\n",
              "       [303, ' Nandurbar'],\n",
              "       [285, ' Buxar'],\n",
              "       [103, ' Thiruvananthapuram'],\n",
              "       [508, ' Jaisalmer'],\n",
              "       [11, ' Nashik'],\n",
              "       [284, ' East Delhi'],\n",
              "       [548, ' Senapati'],\n",
              "       [44, ' Visakhapatnam'],\n",
              "       [56, ' Kheri'],\n",
              "       [453, ' Nayagarh'],\n",
              "       [291, ' Dehradun'],\n",
              "       [26, ' Moradabad'],\n",
              "       [427, ' Saraikela Kharsawan'],\n",
              "       [260, ' Jalor'],\n",
              "       [319, ' Mahamaya Nagar'],\n",
              "       [82, ' Ganjam'],\n",
              "       [154, ' Raigarh'],\n",
              "       [452, ' Kurukshetra'],\n",
              "       [174, ' Amritsar'],\n",
              "       [606, ' Tamenglong'],\n",
              "       [429, ' Karur'],\n",
              "       [503, ' North Tripura'],\n",
              "       [108, ' Ballia'],\n",
              "       [530, ' Central Delhi'],\n",
              "       [573, ' Ramban'],\n",
              "       [535, ' Perambalur'],\n",
              "       [574, ' East Sikkim'],\n",
              "       [157, ' Cuddalore'],\n",
              "       [201, ' Khordha'],\n",
              "       [405, ' Rajsamand'],\n",
              "       [444, ' Baramula'],\n",
              "       [383, ' Chikkaballapura'],\n",
              "       [331, ' Kangra'],\n",
              "       [413, ' Tarn Taran'],\n",
              "       [68, ' Sultanpur'],\n",
              "       [194, ' Rampur'],\n",
              "       [91, ' Saharanpur'],\n",
              "       [199, ' South West Delhi'],\n",
              "       [622, ' Upper Subansiri'],\n",
              "       [200, ' Erode'],\n",
              "       [487, ' Datia'],\n",
              "       [549, ' Punch'],\n",
              "       [225, ' Pali'],\n",
              "       [206, ' Mau'],\n",
              "       [61, ' Darbhanga'],\n",
              "       [272, ' Chhattarpur'],\n",
              "       [324, ' Rajnandgaon'],\n",
              "       [558, ' Aizawl'],\n",
              "       [477, ' Neemuch'],\n",
              "       [14, ' Paschim Medinipur'],\n",
              "       [502, ' Arwal'],\n",
              "       [36, ' Jaunpur'],\n",
              "       [501, ' Dindori'],\n",
              "       [197, ' Gurdaspur'],\n",
              "       [423, ' Kaithal'],\n",
              "       [93, ' Coimbatore'],\n",
              "       [509, ' Hailakandi'],\n",
              "       [345, ' Uttara Kannada'],\n",
              "       [605, ' Zunheboto'],\n",
              "       [50, ' Malappuram'],\n",
              "       [632, ' Longleng'],\n",
              "       [562, ' West Khasi Hills'],\n",
              "       [361, ' Mandsaur'],\n",
              "       [193, ' Vizianagaram'],\n",
              "       [101, ' Siwan'],\n",
              "       [318, ' Betul'],\n",
              "       [38, ' Sitapur'],\n",
              "       [281, ' Shivpuri'],\n",
              "       [229, ' Pilibhit'],\n",
              "       [208, ' Jalandhar'],\n",
              "       [191, ' Bikaner'],\n",
              "       [443, ' Goalpara'],\n",
              "       [409, ' Jagatsinghapur'],\n",
              "       [63, ' Vellore'],\n",
              "       [446, ' Mandi'],\n",
              "       [489, ' Mansa'],\n",
              "       [373, ' Sehore'],\n",
              "       [66, ' Jalpaiguri'],\n",
              "       [265, ' Kendujhar'],\n",
              "       [342, ' Sonipat'],\n",
              "       [426, ' Shahdol'],\n",
              "       [392, ' Nabarangapur'],\n",
              "       [449, ' Chitrakoot'],\n",
              "       [348, ' Bastar'],\n",
              "       [288, ' Bhind'],\n",
              "       [240, ' Dhubri'],\n",
              "       [369, ' Garhwa'],\n",
              "       [219, ' Kachchh'],\n",
              "       [141, ' Yavatmal'],\n",
              "       [585, ' Bishnupur'],\n",
              "       [156, ' Cuttack'],\n",
              "       [315, ' Etawah'],\n",
              "       [428, ' Gadag'],\n",
              "       [169, ' Aurangabad'],\n",
              "       [447, ' Moga'],\n",
              "       [528, ' Narmada'],\n",
              "       [433, ' Chatra'],\n",
              "       [251, ' Krishnagiri'],\n",
              "       [490, ' Burhanpur'],\n",
              "       [591, ' Mokokchung'],\n",
              "       [107, ' Barabanki'],\n",
              "       [364, ' Jind'],\n",
              "       [474, ' Sindhudurg'],\n",
              "       [414, ' Shrawasti'],\n",
              "       [457, ' Nainital'],\n",
              "       [587, ' The Dangs'],\n",
              "       [87, ' Vaishali'],\n",
              "       [384, ' Kamrup Metropolitan'],\n",
              "       [223, ' Dhule'],\n",
              "       [136, ' Sangli']], dtype=object)"
            ]
          },
          "metadata": {},
          "execution_count": 25
        }
      ]
    },
    {
      "cell_type": "code",
      "metadata": {
        "colab": {
          "base_uri": "https://localhost:8080/"
        },
        "id": "Sj2gMuxqizLv",
        "outputId": "75209e0c-1003-4e6c-bc95-32754dfbcb25"
      },
      "source": [
        "Y_train"
      ],
      "execution_count": 26,
      "outputs": [
        {
          "output_type": "execute_result",
          "data": {
            "text/plain": [
              "578        Uttarakhand\n",
              "248          Karnataka\n",
              "377            Haryana\n",
              "528            Gujarat\n",
              "52        Chhattisgarh\n",
              "            ...       \n",
              "15         West Bengal\n",
              "358         Tamil Nadu\n",
              "563           Nagaland\n",
              "16      Andhra Pradesh\n",
              "261        Maharashtra\n",
              "Name: State, Length: 511, dtype: object"
            ]
          },
          "metadata": {},
          "execution_count": 26
        }
      ]
    },
    {
      "cell_type": "code",
      "metadata": {
        "colab": {
          "base_uri": "https://localhost:8080/"
        },
        "id": "35R0Ql2Si1cQ",
        "outputId": "d0aab4f5-cda9-423b-f66a-35d5647a988a"
      },
      "source": [
        "Y_test"
      ],
      "execution_count": 27,
      "outputs": [
        {
          "output_type": "execute_result",
          "data": {
            "text/plain": [
              "231     Uttar Pradesh\n",
              "610           Mizoram\n",
              "147     Uttar Pradesh\n",
              "96      Uttar Pradesh\n",
              "336         Jharkhand\n",
              "            ...      \n",
              "586           Gujarat\n",
              "86              Bihar\n",
              "383             Assam\n",
              "222       Maharashtra\n",
              "135       Maharashtra\n",
              "Name: State, Length: 128, dtype: object"
            ]
          },
          "metadata": {},
          "execution_count": 27
        }
      ]
    },
    {
      "cell_type": "markdown",
      "metadata": {
        "id": "Czu-iXxsi68a"
      },
      "source": [
        "MACHINE LEARNING MODELS"
      ]
    },
    {
      "cell_type": "markdown",
      "metadata": {
        "id": "gFPb80Z5jHPa"
      },
      "source": [
        ""
      ]
    },
    {
      "cell_type": "code",
      "metadata": {
        "id": "fjLn0loKjNeL"
      },
      "source": [
        "mat=pd. read_csv(\"student-mat-pass-or-fail.csv\")"
      ],
      "execution_count": 41,
      "outputs": []
    },
    {
      "cell_type": "code",
      "metadata": {
        "colab": {
          "base_uri": "https://localhost:8080/",
          "height": 224
        },
        "id": "sR2vPCbAjezz",
        "outputId": "28afda23-3b3c-4e26-ffb8-a793bf7f1b6d"
      },
      "source": [
        "mat.head()"
      ],
      "execution_count": 81,
      "outputs": [
        {
          "output_type": "execute_result",
          "data": {
            "text/html": [
              "<div>\n",
              "<style scoped>\n",
              "    .dataframe tbody tr th:only-of-type {\n",
              "        vertical-align: middle;\n",
              "    }\n",
              "\n",
              "    .dataframe tbody tr th {\n",
              "        vertical-align: top;\n",
              "    }\n",
              "\n",
              "    .dataframe thead th {\n",
              "        text-align: right;\n",
              "    }\n",
              "</style>\n",
              "<table border=\"1\" class=\"dataframe\">\n",
              "  <thead>\n",
              "    <tr style=\"text-align: right;\">\n",
              "      <th></th>\n",
              "      <th>school</th>\n",
              "      <th>sex</th>\n",
              "      <th>age</th>\n",
              "      <th>address</th>\n",
              "      <th>famsize</th>\n",
              "      <th>Pstatus</th>\n",
              "      <th>traveltime</th>\n",
              "      <th>studytime</th>\n",
              "      <th>failures</th>\n",
              "      <th>nursery</th>\n",
              "      <th>higher</th>\n",
              "      <th>internet</th>\n",
              "      <th>freetime</th>\n",
              "      <th>goout</th>\n",
              "      <th>Dalc</th>\n",
              "      <th>Walc</th>\n",
              "      <th>health</th>\n",
              "      <th>absences</th>\n",
              "      <th>G1</th>\n",
              "      <th>G2</th>\n",
              "      <th>G3</th>\n",
              "      <th>pass</th>\n",
              "    </tr>\n",
              "  </thead>\n",
              "  <tbody>\n",
              "    <tr>\n",
              "      <th>0</th>\n",
              "      <td>1</td>\n",
              "      <td>1</td>\n",
              "      <td>18</td>\n",
              "      <td>1</td>\n",
              "      <td>0</td>\n",
              "      <td>0</td>\n",
              "      <td>2</td>\n",
              "      <td>2</td>\n",
              "      <td>0</td>\n",
              "      <td>1</td>\n",
              "      <td>1</td>\n",
              "      <td>0</td>\n",
              "      <td>3</td>\n",
              "      <td>4</td>\n",
              "      <td>1</td>\n",
              "      <td>1</td>\n",
              "      <td>3</td>\n",
              "      <td>6</td>\n",
              "      <td>5</td>\n",
              "      <td>6</td>\n",
              "      <td>6</td>\n",
              "      <td>0</td>\n",
              "    </tr>\n",
              "    <tr>\n",
              "      <th>1</th>\n",
              "      <td>1</td>\n",
              "      <td>1</td>\n",
              "      <td>17</td>\n",
              "      <td>1</td>\n",
              "      <td>0</td>\n",
              "      <td>1</td>\n",
              "      <td>1</td>\n",
              "      <td>2</td>\n",
              "      <td>0</td>\n",
              "      <td>0</td>\n",
              "      <td>1</td>\n",
              "      <td>1</td>\n",
              "      <td>3</td>\n",
              "      <td>3</td>\n",
              "      <td>1</td>\n",
              "      <td>1</td>\n",
              "      <td>3</td>\n",
              "      <td>4</td>\n",
              "      <td>5</td>\n",
              "      <td>5</td>\n",
              "      <td>6</td>\n",
              "      <td>0</td>\n",
              "    </tr>\n",
              "    <tr>\n",
              "      <th>2</th>\n",
              "      <td>1</td>\n",
              "      <td>1</td>\n",
              "      <td>15</td>\n",
              "      <td>1</td>\n",
              "      <td>1</td>\n",
              "      <td>1</td>\n",
              "      <td>1</td>\n",
              "      <td>2</td>\n",
              "      <td>3</td>\n",
              "      <td>1</td>\n",
              "      <td>1</td>\n",
              "      <td>1</td>\n",
              "      <td>3</td>\n",
              "      <td>2</td>\n",
              "      <td>2</td>\n",
              "      <td>3</td>\n",
              "      <td>3</td>\n",
              "      <td>10</td>\n",
              "      <td>7</td>\n",
              "      <td>8</td>\n",
              "      <td>10</td>\n",
              "      <td>1</td>\n",
              "    </tr>\n",
              "    <tr>\n",
              "      <th>3</th>\n",
              "      <td>1</td>\n",
              "      <td>1</td>\n",
              "      <td>15</td>\n",
              "      <td>1</td>\n",
              "      <td>0</td>\n",
              "      <td>1</td>\n",
              "      <td>1</td>\n",
              "      <td>3</td>\n",
              "      <td>0</td>\n",
              "      <td>1</td>\n",
              "      <td>1</td>\n",
              "      <td>1</td>\n",
              "      <td>2</td>\n",
              "      <td>2</td>\n",
              "      <td>1</td>\n",
              "      <td>1</td>\n",
              "      <td>5</td>\n",
              "      <td>2</td>\n",
              "      <td>15</td>\n",
              "      <td>14</td>\n",
              "      <td>15</td>\n",
              "      <td>1</td>\n",
              "    </tr>\n",
              "    <tr>\n",
              "      <th>4</th>\n",
              "      <td>1</td>\n",
              "      <td>1</td>\n",
              "      <td>16</td>\n",
              "      <td>1</td>\n",
              "      <td>0</td>\n",
              "      <td>1</td>\n",
              "      <td>1</td>\n",
              "      <td>2</td>\n",
              "      <td>0</td>\n",
              "      <td>1</td>\n",
              "      <td>1</td>\n",
              "      <td>0</td>\n",
              "      <td>3</td>\n",
              "      <td>2</td>\n",
              "      <td>1</td>\n",
              "      <td>2</td>\n",
              "      <td>5</td>\n",
              "      <td>4</td>\n",
              "      <td>6</td>\n",
              "      <td>10</td>\n",
              "      <td>10</td>\n",
              "      <td>1</td>\n",
              "    </tr>\n",
              "  </tbody>\n",
              "</table>\n",
              "</div>"
            ],
            "text/plain": [
              "   school  sex  age  address  famsize  ...  absences  G1  G2  G3  pass\n",
              "0       1    1   18        1        0  ...         6   5   6   6     0\n",
              "1       1    1   17        1        0  ...         4   5   5   6     0\n",
              "2       1    1   15        1        1  ...        10   7   8  10     1\n",
              "3       1    1   15        1        0  ...         2  15  14  15     1\n",
              "4       1    1   16        1        0  ...         4   6  10  10     1\n",
              "\n",
              "[5 rows x 22 columns]"
            ]
          },
          "metadata": {},
          "execution_count": 81
        }
      ]
    },
    {
      "cell_type": "code",
      "metadata": {
        "colab": {
          "base_uri": "https://localhost:8080/",
          "height": 224
        },
        "id": "IWxuza3-jj-e",
        "outputId": "e54bf72c-2063-4f48-fc44-3ad67b9682c9"
      },
      "source": [
        "mat.tail()"
      ],
      "execution_count": 82,
      "outputs": [
        {
          "output_type": "execute_result",
          "data": {
            "text/html": [
              "<div>\n",
              "<style scoped>\n",
              "    .dataframe tbody tr th:only-of-type {\n",
              "        vertical-align: middle;\n",
              "    }\n",
              "\n",
              "    .dataframe tbody tr th {\n",
              "        vertical-align: top;\n",
              "    }\n",
              "\n",
              "    .dataframe thead th {\n",
              "        text-align: right;\n",
              "    }\n",
              "</style>\n",
              "<table border=\"1\" class=\"dataframe\">\n",
              "  <thead>\n",
              "    <tr style=\"text-align: right;\">\n",
              "      <th></th>\n",
              "      <th>school</th>\n",
              "      <th>sex</th>\n",
              "      <th>age</th>\n",
              "      <th>address</th>\n",
              "      <th>famsize</th>\n",
              "      <th>Pstatus</th>\n",
              "      <th>traveltime</th>\n",
              "      <th>studytime</th>\n",
              "      <th>failures</th>\n",
              "      <th>nursery</th>\n",
              "      <th>higher</th>\n",
              "      <th>internet</th>\n",
              "      <th>freetime</th>\n",
              "      <th>goout</th>\n",
              "      <th>Dalc</th>\n",
              "      <th>Walc</th>\n",
              "      <th>health</th>\n",
              "      <th>absences</th>\n",
              "      <th>G1</th>\n",
              "      <th>G2</th>\n",
              "      <th>G3</th>\n",
              "      <th>pass</th>\n",
              "    </tr>\n",
              "  </thead>\n",
              "  <tbody>\n",
              "    <tr>\n",
              "      <th>390</th>\n",
              "      <td>0</td>\n",
              "      <td>0</td>\n",
              "      <td>20</td>\n",
              "      <td>1</td>\n",
              "      <td>1</td>\n",
              "      <td>0</td>\n",
              "      <td>1</td>\n",
              "      <td>2</td>\n",
              "      <td>2</td>\n",
              "      <td>1</td>\n",
              "      <td>1</td>\n",
              "      <td>0</td>\n",
              "      <td>5</td>\n",
              "      <td>4</td>\n",
              "      <td>4</td>\n",
              "      <td>5</td>\n",
              "      <td>4</td>\n",
              "      <td>11</td>\n",
              "      <td>9</td>\n",
              "      <td>9</td>\n",
              "      <td>9</td>\n",
              "      <td>0</td>\n",
              "    </tr>\n",
              "    <tr>\n",
              "      <th>391</th>\n",
              "      <td>0</td>\n",
              "      <td>0</td>\n",
              "      <td>17</td>\n",
              "      <td>1</td>\n",
              "      <td>1</td>\n",
              "      <td>1</td>\n",
              "      <td>2</td>\n",
              "      <td>1</td>\n",
              "      <td>0</td>\n",
              "      <td>0</td>\n",
              "      <td>1</td>\n",
              "      <td>1</td>\n",
              "      <td>4</td>\n",
              "      <td>5</td>\n",
              "      <td>3</td>\n",
              "      <td>4</td>\n",
              "      <td>2</td>\n",
              "      <td>3</td>\n",
              "      <td>14</td>\n",
              "      <td>16</td>\n",
              "      <td>16</td>\n",
              "      <td>1</td>\n",
              "    </tr>\n",
              "    <tr>\n",
              "      <th>392</th>\n",
              "      <td>0</td>\n",
              "      <td>0</td>\n",
              "      <td>21</td>\n",
              "      <td>0</td>\n",
              "      <td>0</td>\n",
              "      <td>1</td>\n",
              "      <td>1</td>\n",
              "      <td>1</td>\n",
              "      <td>3</td>\n",
              "      <td>0</td>\n",
              "      <td>1</td>\n",
              "      <td>0</td>\n",
              "      <td>5</td>\n",
              "      <td>3</td>\n",
              "      <td>3</td>\n",
              "      <td>3</td>\n",
              "      <td>3</td>\n",
              "      <td>3</td>\n",
              "      <td>10</td>\n",
              "      <td>8</td>\n",
              "      <td>7</td>\n",
              "      <td>0</td>\n",
              "    </tr>\n",
              "    <tr>\n",
              "      <th>393</th>\n",
              "      <td>0</td>\n",
              "      <td>0</td>\n",
              "      <td>18</td>\n",
              "      <td>0</td>\n",
              "      <td>1</td>\n",
              "      <td>1</td>\n",
              "      <td>3</td>\n",
              "      <td>1</td>\n",
              "      <td>0</td>\n",
              "      <td>0</td>\n",
              "      <td>1</td>\n",
              "      <td>1</td>\n",
              "      <td>4</td>\n",
              "      <td>1</td>\n",
              "      <td>3</td>\n",
              "      <td>4</td>\n",
              "      <td>5</td>\n",
              "      <td>0</td>\n",
              "      <td>11</td>\n",
              "      <td>12</td>\n",
              "      <td>10</td>\n",
              "      <td>1</td>\n",
              "    </tr>\n",
              "    <tr>\n",
              "      <th>394</th>\n",
              "      <td>0</td>\n",
              "      <td>0</td>\n",
              "      <td>19</td>\n",
              "      <td>1</td>\n",
              "      <td>1</td>\n",
              "      <td>1</td>\n",
              "      <td>1</td>\n",
              "      <td>1</td>\n",
              "      <td>0</td>\n",
              "      <td>1</td>\n",
              "      <td>1</td>\n",
              "      <td>1</td>\n",
              "      <td>2</td>\n",
              "      <td>3</td>\n",
              "      <td>3</td>\n",
              "      <td>3</td>\n",
              "      <td>5</td>\n",
              "      <td>5</td>\n",
              "      <td>8</td>\n",
              "      <td>9</td>\n",
              "      <td>9</td>\n",
              "      <td>0</td>\n",
              "    </tr>\n",
              "  </tbody>\n",
              "</table>\n",
              "</div>"
            ],
            "text/plain": [
              "     school  sex  age  address  famsize  ...  absences  G1  G2  G3  pass\n",
              "390       0    0   20        1        1  ...        11   9   9   9     0\n",
              "391       0    0   17        1        1  ...         3  14  16  16     1\n",
              "392       0    0   21        0        0  ...         3  10   8   7     0\n",
              "393       0    0   18        0        1  ...         0  11  12  10     1\n",
              "394       0    0   19        1        1  ...         5   8   9   9     0\n",
              "\n",
              "[5 rows x 22 columns]"
            ]
          },
          "metadata": {},
          "execution_count": 82
        }
      ]
    },
    {
      "cell_type": "code",
      "metadata": {
        "colab": {
          "base_uri": "https://localhost:8080/"
        },
        "id": "DvZKTvvOjys3",
        "outputId": "d814f550-173d-4bf1-a847-63dfd112a1be"
      },
      "source": [
        "mat.shape"
      ],
      "execution_count": 32,
      "outputs": [
        {
          "output_type": "execute_result",
          "data": {
            "text/plain": [
              "(395, 30)"
            ]
          },
          "metadata": {},
          "execution_count": 32
        }
      ]
    },
    {
      "cell_type": "code",
      "metadata": {
        "colab": {
          "base_uri": "https://localhost:8080/",
          "height": 318
        },
        "id": "FuKJZWA1j5j8",
        "outputId": "b5c2d60f-11e8-40a8-add5-fabd2f20210e"
      },
      "source": [
        "mat.describe()"
      ],
      "execution_count": 80,
      "outputs": [
        {
          "output_type": "execute_result",
          "data": {
            "text/html": [
              "<div>\n",
              "<style scoped>\n",
              "    .dataframe tbody tr th:only-of-type {\n",
              "        vertical-align: middle;\n",
              "    }\n",
              "\n",
              "    .dataframe tbody tr th {\n",
              "        vertical-align: top;\n",
              "    }\n",
              "\n",
              "    .dataframe thead th {\n",
              "        text-align: right;\n",
              "    }\n",
              "</style>\n",
              "<table border=\"1\" class=\"dataframe\">\n",
              "  <thead>\n",
              "    <tr style=\"text-align: right;\">\n",
              "      <th></th>\n",
              "      <th>school</th>\n",
              "      <th>sex</th>\n",
              "      <th>age</th>\n",
              "      <th>address</th>\n",
              "      <th>famsize</th>\n",
              "      <th>Pstatus</th>\n",
              "      <th>traveltime</th>\n",
              "      <th>studytime</th>\n",
              "      <th>failures</th>\n",
              "      <th>nursery</th>\n",
              "      <th>higher</th>\n",
              "      <th>internet</th>\n",
              "      <th>freetime</th>\n",
              "      <th>goout</th>\n",
              "      <th>Dalc</th>\n",
              "      <th>Walc</th>\n",
              "      <th>health</th>\n",
              "      <th>absences</th>\n",
              "      <th>G1</th>\n",
              "      <th>G2</th>\n",
              "      <th>G3</th>\n",
              "      <th>pass</th>\n",
              "    </tr>\n",
              "  </thead>\n",
              "  <tbody>\n",
              "    <tr>\n",
              "      <th>count</th>\n",
              "      <td>395.000000</td>\n",
              "      <td>395.000000</td>\n",
              "      <td>395.000000</td>\n",
              "      <td>395.000000</td>\n",
              "      <td>395.000000</td>\n",
              "      <td>395.000000</td>\n",
              "      <td>395.000000</td>\n",
              "      <td>395.000000</td>\n",
              "      <td>395.000000</td>\n",
              "      <td>395.000000</td>\n",
              "      <td>395.000000</td>\n",
              "      <td>395.000000</td>\n",
              "      <td>395.000000</td>\n",
              "      <td>395.000000</td>\n",
              "      <td>395.000000</td>\n",
              "      <td>395.000000</td>\n",
              "      <td>395.000000</td>\n",
              "      <td>395.000000</td>\n",
              "      <td>395.000000</td>\n",
              "      <td>395.000000</td>\n",
              "      <td>395.000000</td>\n",
              "      <td>395.000000</td>\n",
              "    </tr>\n",
              "    <tr>\n",
              "      <th>mean</th>\n",
              "      <td>0.883544</td>\n",
              "      <td>0.526582</td>\n",
              "      <td>16.696203</td>\n",
              "      <td>0.777215</td>\n",
              "      <td>0.288608</td>\n",
              "      <td>0.896203</td>\n",
              "      <td>1.448101</td>\n",
              "      <td>2.035443</td>\n",
              "      <td>0.334177</td>\n",
              "      <td>0.794937</td>\n",
              "      <td>0.949367</td>\n",
              "      <td>0.832911</td>\n",
              "      <td>3.235443</td>\n",
              "      <td>3.108861</td>\n",
              "      <td>1.481013</td>\n",
              "      <td>2.291139</td>\n",
              "      <td>3.554430</td>\n",
              "      <td>5.708861</td>\n",
              "      <td>10.908861</td>\n",
              "      <td>10.713924</td>\n",
              "      <td>10.415190</td>\n",
              "      <td>0.670886</td>\n",
              "    </tr>\n",
              "    <tr>\n",
              "      <th>std</th>\n",
              "      <td>0.321177</td>\n",
              "      <td>0.499926</td>\n",
              "      <td>1.276043</td>\n",
              "      <td>0.416643</td>\n",
              "      <td>0.453690</td>\n",
              "      <td>0.305384</td>\n",
              "      <td>0.697505</td>\n",
              "      <td>0.839240</td>\n",
              "      <td>0.743651</td>\n",
              "      <td>0.404260</td>\n",
              "      <td>0.219525</td>\n",
              "      <td>0.373528</td>\n",
              "      <td>0.998862</td>\n",
              "      <td>1.113278</td>\n",
              "      <td>0.890741</td>\n",
              "      <td>1.287897</td>\n",
              "      <td>1.390303</td>\n",
              "      <td>8.003096</td>\n",
              "      <td>3.319195</td>\n",
              "      <td>3.761505</td>\n",
              "      <td>4.581443</td>\n",
              "      <td>0.470487</td>\n",
              "    </tr>\n",
              "    <tr>\n",
              "      <th>min</th>\n",
              "      <td>0.000000</td>\n",
              "      <td>0.000000</td>\n",
              "      <td>15.000000</td>\n",
              "      <td>0.000000</td>\n",
              "      <td>0.000000</td>\n",
              "      <td>0.000000</td>\n",
              "      <td>1.000000</td>\n",
              "      <td>1.000000</td>\n",
              "      <td>0.000000</td>\n",
              "      <td>0.000000</td>\n",
              "      <td>0.000000</td>\n",
              "      <td>0.000000</td>\n",
              "      <td>1.000000</td>\n",
              "      <td>1.000000</td>\n",
              "      <td>1.000000</td>\n",
              "      <td>1.000000</td>\n",
              "      <td>1.000000</td>\n",
              "      <td>0.000000</td>\n",
              "      <td>3.000000</td>\n",
              "      <td>0.000000</td>\n",
              "      <td>0.000000</td>\n",
              "      <td>0.000000</td>\n",
              "    </tr>\n",
              "    <tr>\n",
              "      <th>25%</th>\n",
              "      <td>1.000000</td>\n",
              "      <td>0.000000</td>\n",
              "      <td>16.000000</td>\n",
              "      <td>1.000000</td>\n",
              "      <td>0.000000</td>\n",
              "      <td>1.000000</td>\n",
              "      <td>1.000000</td>\n",
              "      <td>1.000000</td>\n",
              "      <td>0.000000</td>\n",
              "      <td>1.000000</td>\n",
              "      <td>1.000000</td>\n",
              "      <td>1.000000</td>\n",
              "      <td>3.000000</td>\n",
              "      <td>2.000000</td>\n",
              "      <td>1.000000</td>\n",
              "      <td>1.000000</td>\n",
              "      <td>3.000000</td>\n",
              "      <td>0.000000</td>\n",
              "      <td>8.000000</td>\n",
              "      <td>9.000000</td>\n",
              "      <td>8.000000</td>\n",
              "      <td>0.000000</td>\n",
              "    </tr>\n",
              "    <tr>\n",
              "      <th>50%</th>\n",
              "      <td>1.000000</td>\n",
              "      <td>1.000000</td>\n",
              "      <td>17.000000</td>\n",
              "      <td>1.000000</td>\n",
              "      <td>0.000000</td>\n",
              "      <td>1.000000</td>\n",
              "      <td>1.000000</td>\n",
              "      <td>2.000000</td>\n",
              "      <td>0.000000</td>\n",
              "      <td>1.000000</td>\n",
              "      <td>1.000000</td>\n",
              "      <td>1.000000</td>\n",
              "      <td>3.000000</td>\n",
              "      <td>3.000000</td>\n",
              "      <td>1.000000</td>\n",
              "      <td>2.000000</td>\n",
              "      <td>4.000000</td>\n",
              "      <td>4.000000</td>\n",
              "      <td>11.000000</td>\n",
              "      <td>11.000000</td>\n",
              "      <td>11.000000</td>\n",
              "      <td>1.000000</td>\n",
              "    </tr>\n",
              "    <tr>\n",
              "      <th>75%</th>\n",
              "      <td>1.000000</td>\n",
              "      <td>1.000000</td>\n",
              "      <td>18.000000</td>\n",
              "      <td>1.000000</td>\n",
              "      <td>1.000000</td>\n",
              "      <td>1.000000</td>\n",
              "      <td>2.000000</td>\n",
              "      <td>2.000000</td>\n",
              "      <td>0.000000</td>\n",
              "      <td>1.000000</td>\n",
              "      <td>1.000000</td>\n",
              "      <td>1.000000</td>\n",
              "      <td>4.000000</td>\n",
              "      <td>4.000000</td>\n",
              "      <td>2.000000</td>\n",
              "      <td>3.000000</td>\n",
              "      <td>5.000000</td>\n",
              "      <td>8.000000</td>\n",
              "      <td>13.000000</td>\n",
              "      <td>13.000000</td>\n",
              "      <td>14.000000</td>\n",
              "      <td>1.000000</td>\n",
              "    </tr>\n",
              "    <tr>\n",
              "      <th>max</th>\n",
              "      <td>1.000000</td>\n",
              "      <td>1.000000</td>\n",
              "      <td>22.000000</td>\n",
              "      <td>1.000000</td>\n",
              "      <td>1.000000</td>\n",
              "      <td>1.000000</td>\n",
              "      <td>4.000000</td>\n",
              "      <td>4.000000</td>\n",
              "      <td>3.000000</td>\n",
              "      <td>1.000000</td>\n",
              "      <td>1.000000</td>\n",
              "      <td>1.000000</td>\n",
              "      <td>5.000000</td>\n",
              "      <td>5.000000</td>\n",
              "      <td>5.000000</td>\n",
              "      <td>5.000000</td>\n",
              "      <td>5.000000</td>\n",
              "      <td>75.000000</td>\n",
              "      <td>19.000000</td>\n",
              "      <td>19.000000</td>\n",
              "      <td>20.000000</td>\n",
              "      <td>1.000000</td>\n",
              "    </tr>\n",
              "  </tbody>\n",
              "</table>\n",
              "</div>"
            ],
            "text/plain": [
              "           school         sex         age  ...          G2          G3        pass\n",
              "count  395.000000  395.000000  395.000000  ...  395.000000  395.000000  395.000000\n",
              "mean     0.883544    0.526582   16.696203  ...   10.713924   10.415190    0.670886\n",
              "std      0.321177    0.499926    1.276043  ...    3.761505    4.581443    0.470487\n",
              "min      0.000000    0.000000   15.000000  ...    0.000000    0.000000    0.000000\n",
              "25%      1.000000    0.000000   16.000000  ...    9.000000    8.000000    0.000000\n",
              "50%      1.000000    1.000000   17.000000  ...   11.000000   11.000000    1.000000\n",
              "75%      1.000000    1.000000   18.000000  ...   13.000000   14.000000    1.000000\n",
              "max      1.000000    1.000000   22.000000  ...   19.000000   20.000000    1.000000\n",
              "\n",
              "[8 rows x 22 columns]"
            ]
          },
          "metadata": {},
          "execution_count": 80
        }
      ]
    },
    {
      "cell_type": "code",
      "metadata": {
        "colab": {
          "base_uri": "https://localhost:8080/"
        },
        "id": "tts5F8AKkDnK",
        "outputId": "c5277caf-139b-4af6-eb1a-c018c8a6fd81"
      },
      "source": [
        "mat.isnull().any()"
      ],
      "execution_count": 34,
      "outputs": [
        {
          "output_type": "execute_result",
          "data": {
            "text/plain": [
              "school        False\n",
              "sex           False\n",
              "age           False\n",
              "address       False\n",
              "famsize       False\n",
              "Pstatus       False\n",
              "Medu          False\n",
              "Fedu          False\n",
              "traveltime    False\n",
              "studytime     False\n",
              "failures      False\n",
              "schoolsup     False\n",
              "famsup        False\n",
              "paid          False\n",
              "activities    False\n",
              "nursery       False\n",
              "higher        False\n",
              "internet      False\n",
              "romantic      False\n",
              "famrel        False\n",
              "freetime      False\n",
              "goout         False\n",
              "Dalc          False\n",
              "Walc          False\n",
              "health        False\n",
              "absences      False\n",
              "G1            False\n",
              "G2            False\n",
              "G3            False\n",
              "pass          False\n",
              "dtype: bool"
            ]
          },
          "metadata": {},
          "execution_count": 34
        }
      ]
    },
    {
      "cell_type": "code",
      "metadata": {
        "id": "aFoM47-_kKd9"
      },
      "source": [
        "mat.drop('Walc',axis=1,inplace=True)"
      ],
      "execution_count": 35,
      "outputs": []
    },
    {
      "cell_type": "code",
      "metadata": {
        "id": "3xJQof0Gkgc2"
      },
      "source": [
        "mat.drop('Pstatus',axis=1,inplace=True)"
      ],
      "execution_count": 36,
      "outputs": []
    },
    {
      "cell_type": "code",
      "metadata": {
        "id": "BORaJzYCkktE"
      },
      "source": [
        "mat.drop('Fedu',axis=1,inplace=True)"
      ],
      "execution_count": 42,
      "outputs": []
    },
    {
      "cell_type": "code",
      "metadata": {
        "id": "L4JPOumMkztq"
      },
      "source": [
        "mat.drop('Medu',axis=1,inplace=True)"
      ],
      "execution_count": 43,
      "outputs": []
    },
    {
      "cell_type": "code",
      "metadata": {
        "id": "jl1u8jyMk4g5"
      },
      "source": [
        "mat.drop('paid',axis=1,inplace=True)"
      ],
      "execution_count": 44,
      "outputs": []
    },
    {
      "cell_type": "code",
      "metadata": {
        "id": "wOw9hhR1kqPO"
      },
      "source": [
        "mat.drop('activities',axis=1,inplace=True)"
      ],
      "execution_count": 45,
      "outputs": []
    },
    {
      "cell_type": "code",
      "metadata": {
        "id": "GWBcUjHYlEOe"
      },
      "source": [
        "mat.drop('romantic',axis=1,inplace=True)"
      ],
      "execution_count": 46,
      "outputs": []
    },
    {
      "cell_type": "code",
      "metadata": {
        "id": "dXcNK2VLlHj2"
      },
      "source": [
        "mat.drop('famrel',axis=1,inplace=True)"
      ],
      "execution_count": 47,
      "outputs": []
    },
    {
      "cell_type": "code",
      "metadata": {
        "id": "1ADxEPrNlLsW"
      },
      "source": [
        "mat.drop('famsup',axis=1,inplace=True)"
      ],
      "execution_count": 48,
      "outputs": []
    },
    {
      "cell_type": "code",
      "metadata": {
        "id": "nAUTa12JlPjG"
      },
      "source": [
        "mat.drop('schoolsup',axis=1,inplace=True)"
      ],
      "execution_count": 49,
      "outputs": []
    },
    {
      "cell_type": "code",
      "metadata": {
        "colab": {
          "base_uri": "https://localhost:8080/",
          "height": 440
        },
        "id": "07TdfTMKlUZ2",
        "outputId": "68e96c19-78a2-4745-eaf4-8e2eb08ca229"
      },
      "source": [
        "mat"
      ],
      "execution_count": 79,
      "outputs": [
        {
          "output_type": "execute_result",
          "data": {
            "text/html": [
              "<div>\n",
              "<style scoped>\n",
              "    .dataframe tbody tr th:only-of-type {\n",
              "        vertical-align: middle;\n",
              "    }\n",
              "\n",
              "    .dataframe tbody tr th {\n",
              "        vertical-align: top;\n",
              "    }\n",
              "\n",
              "    .dataframe thead th {\n",
              "        text-align: right;\n",
              "    }\n",
              "</style>\n",
              "<table border=\"1\" class=\"dataframe\">\n",
              "  <thead>\n",
              "    <tr style=\"text-align: right;\">\n",
              "      <th></th>\n",
              "      <th>school</th>\n",
              "      <th>sex</th>\n",
              "      <th>age</th>\n",
              "      <th>address</th>\n",
              "      <th>famsize</th>\n",
              "      <th>Pstatus</th>\n",
              "      <th>traveltime</th>\n",
              "      <th>studytime</th>\n",
              "      <th>failures</th>\n",
              "      <th>nursery</th>\n",
              "      <th>higher</th>\n",
              "      <th>internet</th>\n",
              "      <th>freetime</th>\n",
              "      <th>goout</th>\n",
              "      <th>Dalc</th>\n",
              "      <th>Walc</th>\n",
              "      <th>health</th>\n",
              "      <th>absences</th>\n",
              "      <th>G1</th>\n",
              "      <th>G2</th>\n",
              "      <th>G3</th>\n",
              "      <th>pass</th>\n",
              "    </tr>\n",
              "  </thead>\n",
              "  <tbody>\n",
              "    <tr>\n",
              "      <th>0</th>\n",
              "      <td>1</td>\n",
              "      <td>1</td>\n",
              "      <td>18</td>\n",
              "      <td>1</td>\n",
              "      <td>0</td>\n",
              "      <td>0</td>\n",
              "      <td>2</td>\n",
              "      <td>2</td>\n",
              "      <td>0</td>\n",
              "      <td>1</td>\n",
              "      <td>1</td>\n",
              "      <td>0</td>\n",
              "      <td>3</td>\n",
              "      <td>4</td>\n",
              "      <td>1</td>\n",
              "      <td>1</td>\n",
              "      <td>3</td>\n",
              "      <td>6</td>\n",
              "      <td>5</td>\n",
              "      <td>6</td>\n",
              "      <td>6</td>\n",
              "      <td>0</td>\n",
              "    </tr>\n",
              "    <tr>\n",
              "      <th>1</th>\n",
              "      <td>1</td>\n",
              "      <td>1</td>\n",
              "      <td>17</td>\n",
              "      <td>1</td>\n",
              "      <td>0</td>\n",
              "      <td>1</td>\n",
              "      <td>1</td>\n",
              "      <td>2</td>\n",
              "      <td>0</td>\n",
              "      <td>0</td>\n",
              "      <td>1</td>\n",
              "      <td>1</td>\n",
              "      <td>3</td>\n",
              "      <td>3</td>\n",
              "      <td>1</td>\n",
              "      <td>1</td>\n",
              "      <td>3</td>\n",
              "      <td>4</td>\n",
              "      <td>5</td>\n",
              "      <td>5</td>\n",
              "      <td>6</td>\n",
              "      <td>0</td>\n",
              "    </tr>\n",
              "    <tr>\n",
              "      <th>2</th>\n",
              "      <td>1</td>\n",
              "      <td>1</td>\n",
              "      <td>15</td>\n",
              "      <td>1</td>\n",
              "      <td>1</td>\n",
              "      <td>1</td>\n",
              "      <td>1</td>\n",
              "      <td>2</td>\n",
              "      <td>3</td>\n",
              "      <td>1</td>\n",
              "      <td>1</td>\n",
              "      <td>1</td>\n",
              "      <td>3</td>\n",
              "      <td>2</td>\n",
              "      <td>2</td>\n",
              "      <td>3</td>\n",
              "      <td>3</td>\n",
              "      <td>10</td>\n",
              "      <td>7</td>\n",
              "      <td>8</td>\n",
              "      <td>10</td>\n",
              "      <td>1</td>\n",
              "    </tr>\n",
              "    <tr>\n",
              "      <th>3</th>\n",
              "      <td>1</td>\n",
              "      <td>1</td>\n",
              "      <td>15</td>\n",
              "      <td>1</td>\n",
              "      <td>0</td>\n",
              "      <td>1</td>\n",
              "      <td>1</td>\n",
              "      <td>3</td>\n",
              "      <td>0</td>\n",
              "      <td>1</td>\n",
              "      <td>1</td>\n",
              "      <td>1</td>\n",
              "      <td>2</td>\n",
              "      <td>2</td>\n",
              "      <td>1</td>\n",
              "      <td>1</td>\n",
              "      <td>5</td>\n",
              "      <td>2</td>\n",
              "      <td>15</td>\n",
              "      <td>14</td>\n",
              "      <td>15</td>\n",
              "      <td>1</td>\n",
              "    </tr>\n",
              "    <tr>\n",
              "      <th>4</th>\n",
              "      <td>1</td>\n",
              "      <td>1</td>\n",
              "      <td>16</td>\n",
              "      <td>1</td>\n",
              "      <td>0</td>\n",
              "      <td>1</td>\n",
              "      <td>1</td>\n",
              "      <td>2</td>\n",
              "      <td>0</td>\n",
              "      <td>1</td>\n",
              "      <td>1</td>\n",
              "      <td>0</td>\n",
              "      <td>3</td>\n",
              "      <td>2</td>\n",
              "      <td>1</td>\n",
              "      <td>2</td>\n",
              "      <td>5</td>\n",
              "      <td>4</td>\n",
              "      <td>6</td>\n",
              "      <td>10</td>\n",
              "      <td>10</td>\n",
              "      <td>1</td>\n",
              "    </tr>\n",
              "    <tr>\n",
              "      <th>...</th>\n",
              "      <td>...</td>\n",
              "      <td>...</td>\n",
              "      <td>...</td>\n",
              "      <td>...</td>\n",
              "      <td>...</td>\n",
              "      <td>...</td>\n",
              "      <td>...</td>\n",
              "      <td>...</td>\n",
              "      <td>...</td>\n",
              "      <td>...</td>\n",
              "      <td>...</td>\n",
              "      <td>...</td>\n",
              "      <td>...</td>\n",
              "      <td>...</td>\n",
              "      <td>...</td>\n",
              "      <td>...</td>\n",
              "      <td>...</td>\n",
              "      <td>...</td>\n",
              "      <td>...</td>\n",
              "      <td>...</td>\n",
              "      <td>...</td>\n",
              "      <td>...</td>\n",
              "    </tr>\n",
              "    <tr>\n",
              "      <th>390</th>\n",
              "      <td>0</td>\n",
              "      <td>0</td>\n",
              "      <td>20</td>\n",
              "      <td>1</td>\n",
              "      <td>1</td>\n",
              "      <td>0</td>\n",
              "      <td>1</td>\n",
              "      <td>2</td>\n",
              "      <td>2</td>\n",
              "      <td>1</td>\n",
              "      <td>1</td>\n",
              "      <td>0</td>\n",
              "      <td>5</td>\n",
              "      <td>4</td>\n",
              "      <td>4</td>\n",
              "      <td>5</td>\n",
              "      <td>4</td>\n",
              "      <td>11</td>\n",
              "      <td>9</td>\n",
              "      <td>9</td>\n",
              "      <td>9</td>\n",
              "      <td>0</td>\n",
              "    </tr>\n",
              "    <tr>\n",
              "      <th>391</th>\n",
              "      <td>0</td>\n",
              "      <td>0</td>\n",
              "      <td>17</td>\n",
              "      <td>1</td>\n",
              "      <td>1</td>\n",
              "      <td>1</td>\n",
              "      <td>2</td>\n",
              "      <td>1</td>\n",
              "      <td>0</td>\n",
              "      <td>0</td>\n",
              "      <td>1</td>\n",
              "      <td>1</td>\n",
              "      <td>4</td>\n",
              "      <td>5</td>\n",
              "      <td>3</td>\n",
              "      <td>4</td>\n",
              "      <td>2</td>\n",
              "      <td>3</td>\n",
              "      <td>14</td>\n",
              "      <td>16</td>\n",
              "      <td>16</td>\n",
              "      <td>1</td>\n",
              "    </tr>\n",
              "    <tr>\n",
              "      <th>392</th>\n",
              "      <td>0</td>\n",
              "      <td>0</td>\n",
              "      <td>21</td>\n",
              "      <td>0</td>\n",
              "      <td>0</td>\n",
              "      <td>1</td>\n",
              "      <td>1</td>\n",
              "      <td>1</td>\n",
              "      <td>3</td>\n",
              "      <td>0</td>\n",
              "      <td>1</td>\n",
              "      <td>0</td>\n",
              "      <td>5</td>\n",
              "      <td>3</td>\n",
              "      <td>3</td>\n",
              "      <td>3</td>\n",
              "      <td>3</td>\n",
              "      <td>3</td>\n",
              "      <td>10</td>\n",
              "      <td>8</td>\n",
              "      <td>7</td>\n",
              "      <td>0</td>\n",
              "    </tr>\n",
              "    <tr>\n",
              "      <th>393</th>\n",
              "      <td>0</td>\n",
              "      <td>0</td>\n",
              "      <td>18</td>\n",
              "      <td>0</td>\n",
              "      <td>1</td>\n",
              "      <td>1</td>\n",
              "      <td>3</td>\n",
              "      <td>1</td>\n",
              "      <td>0</td>\n",
              "      <td>0</td>\n",
              "      <td>1</td>\n",
              "      <td>1</td>\n",
              "      <td>4</td>\n",
              "      <td>1</td>\n",
              "      <td>3</td>\n",
              "      <td>4</td>\n",
              "      <td>5</td>\n",
              "      <td>0</td>\n",
              "      <td>11</td>\n",
              "      <td>12</td>\n",
              "      <td>10</td>\n",
              "      <td>1</td>\n",
              "    </tr>\n",
              "    <tr>\n",
              "      <th>394</th>\n",
              "      <td>0</td>\n",
              "      <td>0</td>\n",
              "      <td>19</td>\n",
              "      <td>1</td>\n",
              "      <td>1</td>\n",
              "      <td>1</td>\n",
              "      <td>1</td>\n",
              "      <td>1</td>\n",
              "      <td>0</td>\n",
              "      <td>1</td>\n",
              "      <td>1</td>\n",
              "      <td>1</td>\n",
              "      <td>2</td>\n",
              "      <td>3</td>\n",
              "      <td>3</td>\n",
              "      <td>3</td>\n",
              "      <td>5</td>\n",
              "      <td>5</td>\n",
              "      <td>8</td>\n",
              "      <td>9</td>\n",
              "      <td>9</td>\n",
              "      <td>0</td>\n",
              "    </tr>\n",
              "  </tbody>\n",
              "</table>\n",
              "<p>395 rows × 22 columns</p>\n",
              "</div>"
            ],
            "text/plain": [
              "     school  sex  age  address  famsize  ...  absences  G1  G2  G3  pass\n",
              "0         1    1   18        1        0  ...         6   5   6   6     0\n",
              "1         1    1   17        1        0  ...         4   5   5   6     0\n",
              "2         1    1   15        1        1  ...        10   7   8  10     1\n",
              "3         1    1   15        1        0  ...         2  15  14  15     1\n",
              "4         1    1   16        1        0  ...         4   6  10  10     1\n",
              "..      ...  ...  ...      ...      ...  ...       ...  ..  ..  ..   ...\n",
              "390       0    0   20        1        1  ...        11   9   9   9     0\n",
              "391       0    0   17        1        1  ...         3  14  16  16     1\n",
              "392       0    0   21        0        0  ...         3  10   8   7     0\n",
              "393       0    0   18        0        1  ...         0  11  12  10     1\n",
              "394       0    0   19        1        1  ...         5   8   9   9     0\n",
              "\n",
              "[395 rows x 22 columns]"
            ]
          },
          "metadata": {},
          "execution_count": 79
        }
      ]
    },
    {
      "cell_type": "markdown",
      "metadata": {
        "id": "UbHhQVBblbWP"
      },
      "source": [
        "SPLITTING"
      ]
    },
    {
      "cell_type": "code",
      "metadata": {
        "id": "ZzFMX8MZlcWR"
      },
      "source": [
        "x=mat.iloc[1:,15:18].values"
      ],
      "execution_count": 51,
      "outputs": []
    },
    {
      "cell_type": "code",
      "metadata": {
        "id": "gEDOlDPwlon7"
      },
      "source": [
        "y=mat.iloc[1:,18]"
      ],
      "execution_count": 53,
      "outputs": []
    },
    {
      "cell_type": "code",
      "metadata": {
        "colab": {
          "base_uri": "https://localhost:8080/"
        },
        "id": "x96axKlxlu7c",
        "outputId": "0f3c0ff7-78e2-4bf6-f6da-4fe05287112e"
      },
      "source": [
        "print(x)\n",
        "print(y)"
      ],
      "execution_count": 54,
      "outputs": [
        {
          "output_type": "stream",
          "name": "stdout",
          "text": [
            "[[ 1  3  4]\n",
            " [ 3  3 10]\n",
            " [ 1  5  2]\n",
            " ...\n",
            " [ 3  3  3]\n",
            " [ 4  5  0]\n",
            " [ 3  5  5]]\n",
            "1       5\n",
            "2       7\n",
            "3      15\n",
            "4       6\n",
            "5      15\n",
            "       ..\n",
            "390     9\n",
            "391    14\n",
            "392    10\n",
            "393    11\n",
            "394     8\n",
            "Name: G1, Length: 394, dtype: int64\n"
          ]
        }
      ]
    },
    {
      "cell_type": "code",
      "metadata": {
        "id": "ZRJkq2CWl0sA"
      },
      "source": [
        "x_train,x_test,y_train,y_test=train_test_split(x,y,test_size=0.2,random_state=2)"
      ],
      "execution_count": 56,
      "outputs": []
    },
    {
      "cell_type": "markdown",
      "metadata": {
        "id": "PzmbQgdCmCfT"
      },
      "source": [
        "LOGISTIC REGRESSION INCLUDING FITTING,PREDICTION,ACCURACY"
      ]
    },
    {
      "cell_type": "code",
      "metadata": {
        "id": "sw4zxoLNmGyp"
      },
      "source": [
        "from sklearn.linear_model import LogisticRegression"
      ],
      "execution_count": 58,
      "outputs": []
    },
    {
      "cell_type": "code",
      "metadata": {
        "colab": {
          "base_uri": "https://localhost:8080/"
        },
        "id": "uY2KSsZEmMTG",
        "outputId": "c42b7f77-d8e5-493b-867b-06eb8b316e50"
      },
      "source": [
        "lr=LogisticRegression()\n",
        "lr.fit(x_train,y_train)"
      ],
      "execution_count": 65,
      "outputs": [
        {
          "output_type": "stream",
          "name": "stderr",
          "text": [
            "/usr/local/lib/python3.7/dist-packages/sklearn/linear_model/_logistic.py:940: ConvergenceWarning: lbfgs failed to converge (status=1):\n",
            "STOP: TOTAL NO. of ITERATIONS REACHED LIMIT.\n",
            "\n",
            "Increase the number of iterations (max_iter) or scale the data as shown in:\n",
            "    https://scikit-learn.org/stable/modules/preprocessing.html\n",
            "Please also refer to the documentation for alternative solver options:\n",
            "    https://scikit-learn.org/stable/modules/linear_model.html#logistic-regression\n",
            "  extra_warning_msg=_LOGISTIC_SOLVER_CONVERGENCE_MSG)\n"
          ]
        },
        {
          "output_type": "execute_result",
          "data": {
            "text/plain": [
              "LogisticRegression(C=1.0, class_weight=None, dual=False, fit_intercept=True,\n",
              "                   intercept_scaling=1, l1_ratio=None, max_iter=100,\n",
              "                   multi_class='auto', n_jobs=None, penalty='l2',\n",
              "                   random_state=None, solver='lbfgs', tol=0.0001, verbose=0,\n",
              "                   warm_start=False)"
            ]
          },
          "metadata": {},
          "execution_count": 65
        }
      ]
    },
    {
      "cell_type": "markdown",
      "metadata": {
        "id": "FBDKhkoLn6x7"
      },
      "source": [
        ""
      ]
    },
    {
      "cell_type": "code",
      "metadata": {
        "id": "gvnMyEV_mXJQ"
      },
      "source": [
        "y_pred=lr.predict(x_test)"
      ],
      "execution_count": 60,
      "outputs": []
    },
    {
      "cell_type": "code",
      "metadata": {
        "id": "WMUnS4gTmb-M"
      },
      "source": [
        "from sklearn.metrics import confusion_matrix,classification_report,accuracy_score"
      ],
      "execution_count": 61,
      "outputs": []
    },
    {
      "cell_type": "code",
      "metadata": {
        "colab": {
          "base_uri": "https://localhost:8080/"
        },
        "id": "fG0BL1xjmhhx",
        "outputId": "26605bf3-ac59-41d8-f9e1-4c7488f53d25"
      },
      "source": [
        "confusion_matrix(y_test,y_pred)"
      ],
      "execution_count": 64,
      "outputs": [
        {
          "output_type": "execute_result",
          "data": {
            "text/plain": [
              "array([[0, 0, 0, 0, 0, 1, 0, 0, 0, 0, 0, 0, 0, 0],\n",
              "       [0, 0, 0, 0, 0, 5, 0, 1, 0, 0, 0, 0, 0, 0],\n",
              "       [0, 0, 1, 1, 0, 1, 1, 1, 0, 0, 0, 0, 0, 0],\n",
              "       [0, 0, 5, 0, 0, 4, 0, 0, 0, 0, 0, 0, 0, 0],\n",
              "       [0, 0, 0, 0, 0, 3, 1, 1, 0, 0, 0, 0, 0, 0],\n",
              "       [0, 0, 1, 0, 0, 4, 0, 1, 0, 0, 0, 0, 0, 0],\n",
              "       [0, 0, 0, 0, 0, 4, 2, 0, 0, 0, 0, 0, 0, 0],\n",
              "       [0, 0, 0, 1, 0, 5, 0, 1, 0, 0, 0, 0, 0, 0],\n",
              "       [0, 0, 3, 0, 0, 3, 3, 3, 0, 0, 0, 0, 0, 0],\n",
              "       [0, 0, 1, 0, 0, 3, 1, 0, 0, 0, 0, 0, 0, 0],\n",
              "       [0, 0, 1, 1, 0, 2, 1, 1, 0, 0, 0, 0, 0, 0],\n",
              "       [0, 0, 2, 0, 0, 4, 0, 0, 0, 1, 0, 0, 0, 0],\n",
              "       [0, 0, 0, 0, 0, 1, 0, 2, 0, 0, 0, 0, 0, 0],\n",
              "       [0, 0, 0, 0, 0, 0, 0, 1, 0, 0, 0, 0, 0, 0]])"
            ]
          },
          "metadata": {},
          "execution_count": 64
        }
      ]
    },
    {
      "cell_type": "code",
      "metadata": {
        "colab": {
          "base_uri": "https://localhost:8080/"
        },
        "id": "EjtaAHKQmrbD",
        "outputId": "79d74e6e-e90e-4fb2-b7bd-cef49f0767bd"
      },
      "source": [
        "print(lr.score(x_test,y_test))"
      ],
      "execution_count": 66,
      "outputs": [
        {
          "output_type": "stream",
          "name": "stdout",
          "text": [
            "0.10126582278481013\n"
          ]
        }
      ]
    },
    {
      "cell_type": "markdown",
      "metadata": {
        "id": "B6bvkjaaoCsh"
      },
      "source": [
        "DECISION TREE CLASSIFIER INCLUDING FITTING,PREDICTION,ACCURACY"
      ]
    },
    {
      "cell_type": "code",
      "metadata": {
        "id": "RHQfAeqfoFT8"
      },
      "source": [
        "from sklearn.tree import DecisionTreeClassifier"
      ],
      "execution_count": 67,
      "outputs": []
    },
    {
      "cell_type": "code",
      "metadata": {
        "id": "kZ4Y7s6yoOGp"
      },
      "source": [
        "dtc=DecisionTreeClassifier()"
      ],
      "execution_count": 68,
      "outputs": []
    },
    {
      "cell_type": "code",
      "metadata": {
        "colab": {
          "base_uri": "https://localhost:8080/"
        },
        "id": "MJFkHMyloSgo",
        "outputId": "d90c92dc-bbea-410b-926a-1b42c69c2dc4"
      },
      "source": [
        "dtc.fit(x_train,y_train)"
      ],
      "execution_count": 69,
      "outputs": [
        {
          "output_type": "execute_result",
          "data": {
            "text/plain": [
              "DecisionTreeClassifier(ccp_alpha=0.0, class_weight=None, criterion='gini',\n",
              "                       max_depth=None, max_features=None, max_leaf_nodes=None,\n",
              "                       min_impurity_decrease=0.0, min_impurity_split=None,\n",
              "                       min_samples_leaf=1, min_samples_split=2,\n",
              "                       min_weight_fraction_leaf=0.0, presort='deprecated',\n",
              "                       random_state=None, splitter='best')"
            ]
          },
          "metadata": {},
          "execution_count": 69
        }
      ]
    },
    {
      "cell_type": "code",
      "metadata": {
        "id": "wTnezSHLoX4_"
      },
      "source": [
        "y_pred=dtc.predict(x_test)"
      ],
      "execution_count": 70,
      "outputs": []
    },
    {
      "cell_type": "code",
      "metadata": {
        "colab": {
          "base_uri": "https://localhost:8080/"
        },
        "id": "AJXRCd9PolL2",
        "outputId": "139d59b0-d4a9-4492-9113-da36d651c62e"
      },
      "source": [
        "y_test.head(),y_pred[0:5]"
      ],
      "execution_count": 71,
      "outputs": [
        {
          "output_type": "execute_result",
          "data": {
            "text/plain": [
              "(95      7\n",
              " 33      8\n",
              " 223    12\n",
              " 316     8\n",
              " 351    13\n",
              " Name: G1, dtype: int64, array([10,  7,  6,  7, 10]))"
            ]
          },
          "metadata": {},
          "execution_count": 71
        }
      ]
    },
    {
      "cell_type": "code",
      "metadata": {
        "colab": {
          "base_uri": "https://localhost:8080/"
        },
        "id": "TCpY5ZihozXw",
        "outputId": "7d47bdc1-eaeb-4b83-b1c1-36b5c330719a"
      },
      "source": [
        "accuracy_score(y_test,y_pred)"
      ],
      "execution_count": 72,
      "outputs": [
        {
          "output_type": "execute_result",
          "data": {
            "text/plain": [
              "0.05063291139240506"
            ]
          },
          "metadata": {},
          "execution_count": 72
        }
      ]
    },
    {
      "cell_type": "markdown",
      "metadata": {
        "id": "Jhw_-tv_o8uJ"
      },
      "source": [
        "LINEAR REGRESSION INCLUDING FITTING,PREDICTION,ACCURACY"
      ]
    },
    {
      "cell_type": "code",
      "metadata": {
        "id": "4lbq15fapBFm"
      },
      "source": [
        "from sklearn.linear_model import LinearRegression"
      ],
      "execution_count": 73,
      "outputs": []
    },
    {
      "cell_type": "code",
      "metadata": {
        "id": "deMft5vdpHOi"
      },
      "source": [
        "lr2=LinearRegression()"
      ],
      "execution_count": 74,
      "outputs": []
    },
    {
      "cell_type": "code",
      "metadata": {
        "colab": {
          "base_uri": "https://localhost:8080/"
        },
        "id": "vBsRID7PpKgu",
        "outputId": "3847a9b7-5f98-4db2-db95-fce404f8e39b"
      },
      "source": [
        "lr2.fit(x_train,y_train)"
      ],
      "execution_count": 75,
      "outputs": [
        {
          "output_type": "execute_result",
          "data": {
            "text/plain": [
              "LinearRegression(copy_X=True, fit_intercept=True, n_jobs=None, normalize=False)"
            ]
          },
          "metadata": {},
          "execution_count": 75
        }
      ]
    },
    {
      "cell_type": "code",
      "metadata": {
        "id": "ggcl22zrpPvb"
      },
      "source": [
        "y_pred=lr2.predict(x_test)"
      ],
      "execution_count": 76,
      "outputs": []
    },
    {
      "cell_type": "code",
      "metadata": {
        "colab": {
          "base_uri": "https://localhost:8080/"
        },
        "id": "btEirrNFpVWW",
        "outputId": "dcff48e7-728c-49f4-aa56-cf6a2f55b370"
      },
      "source": [
        "print(x_test)\n",
        "print(y_pred)"
      ],
      "execution_count": 77,
      "outputs": [
        {
          "output_type": "stream",
          "name": "stdout",
          "text": [
            "[[ 1  1  2]\n",
            " [ 1  2  0]\n",
            " [ 5  4  0]\n",
            " [ 2  1  0]\n",
            " [ 3  3  2]\n",
            " [ 2  5  2]\n",
            " [ 3  4  2]\n",
            " [ 2  4  4]\n",
            " [ 2  3  2]\n",
            " [ 1  5  0]\n",
            " [ 4  4  4]\n",
            " [ 1  3  2]\n",
            " [ 2  3  2]\n",
            " [ 4  5  2]\n",
            " [ 3  1  2]\n",
            " [ 3  5  0]\n",
            " [ 2  3  0]\n",
            " [ 1  3  4]\n",
            " [ 1  3  0]\n",
            " [ 1  5  2]\n",
            " [ 1  3  6]\n",
            " [ 1  3  1]\n",
            " [ 3  5  6]\n",
            " [ 4  5  0]\n",
            " [ 1  3  0]\n",
            " [ 3  4  6]\n",
            " [ 1  5  0]\n",
            " [ 1  4  4]\n",
            " [ 4  2  4]\n",
            " [ 3  5 11]\n",
            " [ 1  1  0]\n",
            " [ 3  5  2]\n",
            " [ 3  5 14]\n",
            " [ 1  5 20]\n",
            " [ 1  1  0]\n",
            " [ 2  1 22]\n",
            " [ 3  5 15]\n",
            " [ 4  1  6]\n",
            " [ 5  5 16]\n",
            " [ 2  3  3]\n",
            " [ 2  3  0]\n",
            " [ 1  3  0]\n",
            " [ 1  4  0]\n",
            " [ 2  5  2]\n",
            " [ 1  5  2]\n",
            " [ 1  3  0]\n",
            " [ 5  3  4]\n",
            " [ 5  3 13]\n",
            " [ 1  1  0]\n",
            " [ 5  5  6]\n",
            " [ 1  5  2]\n",
            " [ 5  4  4]\n",
            " [ 1  3  0]\n",
            " [ 1  2 20]\n",
            " [ 1  3  2]\n",
            " [ 3  3 12]\n",
            " [ 1  5  0]\n",
            " [ 2  5  0]\n",
            " [ 1  2 10]\n",
            " [ 1  5  0]\n",
            " [ 2  5  0]\n",
            " [ 2  4  0]\n",
            " [ 1  1 12]\n",
            " [ 4  1 22]\n",
            " [ 4  3  6]\n",
            " [ 5  3 14]\n",
            " [ 4  5 16]\n",
            " [ 4  5  2]\n",
            " [ 1  5  0]\n",
            " [ 3  2  4]\n",
            " [ 5  2  2]\n",
            " [ 1  5  0]\n",
            " [ 1  5  2]\n",
            " [ 1  3  0]\n",
            " [ 3  1 56]\n",
            " [ 2  5  0]\n",
            " [ 1  5  0]\n",
            " [ 5  3  4]\n",
            " [ 1  3  8]]\n",
            "[11.69485042 11.47151032  9.88792613 11.39130391 10.69259857 10.56234523\n",
            " 10.48213881 10.78568533 10.98326474 10.84013105 10.20435299 11.27393091\n",
            " 10.98326474  9.98101288 11.11351808 10.25879871 10.97038439 11.28681125\n",
            " 11.26105056 10.8530114  11.2996916  11.26749074 10.29743974  9.96813254\n",
            " 11.26105056 10.5078995  10.84013105 11.0763515  10.6252725  10.32964061\n",
            " 11.68197008 10.27167905 10.34896112 10.9689345  11.68197008 11.5329877\n",
            " 10.35540129 10.8486126   9.78050913 10.98970491 10.97038439 11.26105056\n",
            " 11.05059081 10.56234523 10.8530114  11.26105056 10.12414657 10.18210812\n",
            " 11.68197008  9.7161074  10.8530114   9.91368682 11.26105056 11.60031377\n",
            " 11.27393091 10.75700029 10.84013105 10.54946488 11.53591204 10.84013105\n",
            " 10.54946488 10.75992464 11.75925215 10.95165536 10.42769309 10.1885483\n",
            " 10.0711753   9.98101288 10.84013105 10.91593867 10.32172598 10.84013105\n",
            " 10.8530114  11.26105056 11.46128739 10.54946488 10.84013105 10.12414657\n",
            " 11.31257194]\n"
          ]
        }
      ]
    },
    {
      "cell_type": "code",
      "metadata": {
        "colab": {
          "base_uri": "https://localhost:8080/"
        },
        "id": "eorq0J4Rpc9R",
        "outputId": "a9753129-8511-4358-d94e-168dff91e06b"
      },
      "source": [
        "print(lr2.score(x_test,y_test))"
      ],
      "execution_count": 93,
      "outputs": [
        {
          "output_type": "stream",
          "name": "stdout",
          "text": [
            "-0.020313364692036154\n"
          ]
        }
      ]
    },
    {
      "cell_type": "markdown",
      "metadata": {
        "id": "9WF6pYHRrh8C"
      },
      "source": [
        ""
      ]
    },
    {
      "cell_type": "markdown",
      "metadata": {
        "id": "mpIWM_5zpryr"
      },
      "source": [
        "A BRIEF DESCRIPTION"
      ]
    },
    {
      "cell_type": "markdown",
      "metadata": {
        "id": "b2ATV1UJrO1A"
      },
      "source": [
        "Literacy i India is a key for socio-economic progress.Despite government programmes,India's literacy rate increased only \"sluggishly\".The 2011 census,indicated a 2001-2011 decadal literacy growth of 9.2%, which is lower than the growth seen during that previous decade.An old analytical 1990 study estimated that it would take until 2060 for India to achieve universal literacy at then-current rate of progress.\n",
        "In this project ,We implemented EXPLORATORY DATA ANALYSIS,SPLITTING BY USING SKLEARN,APPLYING 3 MACHINE LEARNING MODELS.....\n",
        "\n",
        "1.EXPLORATORY DATA ANALYSIS 2.SPLITTING THE DATA 3.MAXHINE LEARNING\n",
        "\n",
        "Here we used 3 machine learning models :\n",
        "\n",
        "1.LOGISTIC REGRESSION 2.DECISION TREE CLASSIFIER 3.LINEAR\n",
        "\n",
        "   when we apply logistic regression model and decision tree classifier model to our dataset it shows 100% accuracy for both models and when we apply linear regression model,it shows 62.3%accuracy.so logistic regression and decision tree classifier are the best machine learning models for our data set to attain accuracy."
      ]
    }
  ]
}